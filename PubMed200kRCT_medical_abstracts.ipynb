{
 "cells": [
  {
   "cell_type": "markdown",
   "metadata": {},
   "source": [
    "# Sevendi Eldrige Rifki Poluan🔥🔥🔥\n",
    "### Descriptions: NLP Fundamental"
   ]
  },
  {
   "cell_type": "code",
   "execution_count": 1,
   "metadata": {
    "scrolled": true
   },
   "outputs": [
    {
     "name": "stdout",
     "output_type": "stream",
     "text": [
      "Thu Apr  6 17:02:19 2023       \n",
      "+---------------------------------------------------------------------------------------+\n",
      "| NVIDIA-SMI 530.30.02              Driver Version: 530.30.02    CUDA Version: 12.1     |\n",
      "|-----------------------------------------+----------------------+----------------------+\n",
      "| GPU  Name                  Persistence-M| Bus-Id        Disp.A | Volatile Uncorr. ECC |\n",
      "| Fan  Temp  Perf            Pwr:Usage/Cap|         Memory-Usage | GPU-Util  Compute M. |\n",
      "|                                         |                      |               MIG M. |\n",
      "|=========================================+======================+======================|\n",
      "|   0  NVIDIA GeForce RTX 3090         On | 00000000:65:00.0 Off |                  N/A |\n",
      "| 53%   42C    P8               46W / 390W|    189MiB / 24576MiB |      0%      Default |\n",
      "|                                         |                      |                  N/A |\n",
      "+-----------------------------------------+----------------------+----------------------+\n",
      "                                                                                         \n",
      "+---------------------------------------------------------------------------------------+\n",
      "| Processes:                                                                            |\n",
      "|  GPU   GI   CI        PID   Type   Process name                            GPU Memory |\n",
      "|        ID   ID                                                             Usage      |\n",
      "|=======================================================================================|\n",
      "+---------------------------------------------------------------------------------------+\n"
     ]
    }
   ],
   "source": [
    "# working environment\n",
    "!nvidia-smi"
   ]
  },
  {
   "cell_type": "code",
   "execution_count": 2,
   "metadata": {
    "scrolled": true
   },
   "outputs": [
    {
     "name": "stdout",
     "output_type": "stream",
     "text": [
      "Collecting pandas\n",
      "  Downloading pandas-2.0.0-cp38-cp38-manylinux_2_17_x86_64.manylinux2014_x86_64.whl (12.3 MB)\n",
      "\u001b[2K     \u001b[90m━━━━━━━━━━━━━━━━━━━━━━━━━━━━━━━━━━━━━━━\u001b[0m \u001b[32m12.3/12.3 MB\u001b[0m \u001b[31m161.9 kB/s\u001b[0m eta \u001b[36m0:00:00\u001b[0m00:01\u001b[0m00:03\u001b[0m\n",
      "\u001b[?25hCollecting pytz>=2020.1\n",
      "  Downloading pytz-2023.3-py2.py3-none-any.whl (502 kB)\n",
      "\u001b[2K     \u001b[90m━━━━━━━━━━━━━━━━━━━━━━━━━━━━━━━━━━━━━\u001b[0m \u001b[32m502.3/502.3 kB\u001b[0m \u001b[31m675.7 kB/s\u001b[0m eta \u001b[36m0:00:00\u001b[0ma \u001b[36m0:00:01\u001b[0m\n",
      "\u001b[?25hRequirement already satisfied: numpy>=1.20.3 in /usr/local/lib/python3.8/dist-packages (from pandas) (1.23.5)\n",
      "Requirement already satisfied: python-dateutil>=2.8.2 in /usr/local/lib/python3.8/dist-packages (from pandas) (2.8.2)\n",
      "Collecting tzdata>=2022.1\n",
      "  Downloading tzdata-2023.3-py2.py3-none-any.whl (341 kB)\n",
      "\u001b[2K     \u001b[90m━━━━━━━━━━━━━━━━━━━━━━━━━━━━━━━━━━━━━\u001b[0m \u001b[32m341.8/341.8 kB\u001b[0m \u001b[31m670.6 kB/s\u001b[0m eta \u001b[36m0:00:00\u001b[0ma \u001b[36m0:00:01\u001b[0m\n",
      "\u001b[?25hRequirement already satisfied: six>=1.5 in /usr/lib/python3/dist-packages (from python-dateutil>=2.8.2->pandas) (1.14.0)\n",
      "Installing collected packages: pytz, tzdata, pandas\n",
      "Successfully installed pandas-2.0.0 pytz-2023.3 tzdata-2023.3\n",
      "\u001b[33mWARNING: Running pip as the 'root' user can result in broken permissions and conflicting behaviour with the system package manager. It is recommended to use a virtual environment instead: https://pip.pypa.io/warnings/venv\u001b[0m\u001b[33m\n",
      "\u001b[0m"
     ]
    }
   ],
   "source": [
    "!pip install pandas"
   ]
  },
  {
   "cell_type": "code",
   "execution_count": 4,
   "metadata": {
    "scrolled": true
   },
   "outputs": [
    {
     "name": "stdout",
     "output_type": "stream",
     "text": [
      "Collecting scikit-learn\n",
      "  Downloading scikit_learn-1.2.2-cp38-cp38-manylinux_2_17_x86_64.manylinux2014_x86_64.whl (9.8 MB)\n",
      "\u001b[2K     \u001b[90m━━━━━━━━━━━━━━━━━━━━━━━━━━━━━━━━━━━━━━━━\u001b[0m \u001b[32m9.8/9.8 MB\u001b[0m \u001b[31m172.9 kB/s\u001b[0m eta \u001b[36m0:00:00\u001b[0m00:01\u001b[0m00:02\u001b[0m\n",
      "\u001b[?25hCollecting joblib>=1.1.1\n",
      "  Downloading joblib-1.2.0-py3-none-any.whl (297 kB)\n",
      "\u001b[2K     \u001b[90m━━━━━━━━━━━━━━━━━━━━━━━━━━━━━━━━━━━━━\u001b[0m \u001b[32m298.0/298.0 kB\u001b[0m \u001b[31m216.8 kB/s\u001b[0m eta \u001b[36m0:00:00\u001b[0ma \u001b[36m0:00:01\u001b[0m\n",
      "\u001b[?25hRequirement already satisfied: scipy>=1.3.2 in /usr/local/lib/python3.8/dist-packages (from scikit-learn) (1.10.1)\n",
      "Requirement already satisfied: numpy>=1.17.3 in /usr/local/lib/python3.8/dist-packages (from scikit-learn) (1.23.5)\n",
      "Collecting threadpoolctl>=2.0.0\n",
      "  Downloading threadpoolctl-3.1.0-py3-none-any.whl (14 kB)\n",
      "Installing collected packages: threadpoolctl, joblib, scikit-learn\n",
      "Successfully installed joblib-1.2.0 scikit-learn-1.2.2 threadpoolctl-3.1.0\n",
      "\u001b[33mWARNING: Running pip as the 'root' user can result in broken permissions and conflicting behaviour with the system package manager. It is recommended to use a virtual environment instead: https://pip.pypa.io/warnings/venv\u001b[0m\u001b[33m\n",
      "\u001b[0m"
     ]
    }
   ],
   "source": [
    "!pip install scikit-learn"
   ]
  },
  {
   "cell_type": "code",
   "execution_count": 21,
   "metadata": {
    "scrolled": true
   },
   "outputs": [
    {
     "name": "stdout",
     "output_type": "stream",
     "text": [
      "Collecting pydot\n",
      "  Downloading pydot-1.4.2-py2.py3-none-any.whl (21 kB)\n",
      "Requirement already satisfied: pyparsing>=2.1.4 in /usr/local/lib/python3.8/dist-packages (from pydot) (3.0.9)\n",
      "Installing collected packages: pydot\n",
      "Successfully installed pydot-1.4.2\n",
      "\u001b[33mWARNING: Running pip as the 'root' user can result in broken permissions and conflicting behaviour with the system package manager. It is recommended to use a virtual environment instead: https://pip.pypa.io/warnings/venv\u001b[0m\u001b[33m\n",
      "\u001b[0m"
     ]
    }
   ],
   "source": [
    "!pip install pydot"
   ]
  },
  {
   "cell_type": "code",
   "execution_count": 25,
   "metadata": {},
   "outputs": [
    {
     "name": "stdout",
     "output_type": "stream",
     "text": [
      "Collecting tensorflow_hub\n",
      "  Downloading tensorflow_hub-0.13.0-py2.py3-none-any.whl (100 kB)\n",
      "\u001b[2K     \u001b[90m━━━━━━━━━━━━━━━━━━━━━━━━━━━━━━━━━━━━━━━\u001b[0m \u001b[32m100.6/100.6 kB\u001b[0m \u001b[31m3.1 MB/s\u001b[0m eta \u001b[36m0:00:00\u001b[0m\n",
      "\u001b[?25hRequirement already satisfied: numpy>=1.12.0 in /usr/local/lib/python3.8/dist-packages (from tensorflow_hub) (1.23.5)\n",
      "Requirement already satisfied: protobuf>=3.19.6 in /usr/local/lib/python3.8/dist-packages (from tensorflow_hub) (4.22.1)\n",
      "Installing collected packages: tensorflow_hub\n",
      "Successfully installed tensorflow_hub-0.13.0\n",
      "\u001b[33mWARNING: Running pip as the 'root' user can result in broken permissions and conflicting behaviour with the system package manager. It is recommended to use a virtual environment instead: https://pip.pypa.io/warnings/venv\u001b[0m\u001b[33m\n",
      "\u001b[0m"
     ]
    }
   ],
   "source": [
    "!pip install tensorflow_hub"
   ]
  },
  {
   "cell_type": "code",
   "execution_count": 23,
   "metadata": {
    "scrolled": true
   },
   "outputs": [
    {
     "name": "stdout",
     "output_type": "stream",
     "text": [
      "Reading package lists... Done\n",
      "Building dependency tree       \n",
      "Reading state information... Done\n",
      "The following additional packages will be installed:\n",
      "  fontconfig fontconfig-config fonts-dejavu-core fonts-liberation libann0\n",
      "  libbsd0 libcairo2 libcdt5 libcgraph6 libdatrie1 libfontconfig1 libfreetype6\n",
      "  libfribidi0 libgd3 libgraphite2-3 libgts-0.7-5 libgts-bin libgvc6 libgvpr2\n",
      "  libharfbuzz0b libice6 libjbig0 libjpeg-turbo8 libjpeg8 liblab-gamut1\n",
      "  libltdl7 libpango-1.0-0 libpangocairo-1.0-0 libpangoft2-1.0-0 libpathplan4\n",
      "  libpixman-1-0 libpng16-16 libsm6 libthai-data libthai0 libtiff5 libwebp6\n",
      "  libx11-6 libx11-data libxau6 libxaw7 libxcb-render0 libxcb-shm0 libxcb1\n",
      "  libxdmcp6 libxext6 libxmu6 libxpm4 libxrender1 libxt6 ucf x11-common\n",
      "Suggested packages:\n",
      "  gsfonts graphviz-doc libgd-tools\n",
      "The following NEW packages will be installed:\n",
      "  fontconfig fontconfig-config fonts-dejavu-core fonts-liberation graphviz\n",
      "  libann0 libbsd0 libcairo2 libcdt5 libcgraph6 libdatrie1 libfontconfig1\n",
      "  libfreetype6 libfribidi0 libgd3 libgraphite2-3 libgts-0.7-5 libgts-bin\n",
      "  libgvc6 libgvpr2 libharfbuzz0b libice6 libjbig0 libjpeg-turbo8 libjpeg8\n",
      "  liblab-gamut1 libltdl7 libpango-1.0-0 libpangocairo-1.0-0 libpangoft2-1.0-0\n",
      "  libpathplan4 libpixman-1-0 libpng16-16 libsm6 libthai-data libthai0 libtiff5\n",
      "  libwebp6 libx11-6 libx11-data libxau6 libxaw7 libxcb-render0 libxcb-shm0\n",
      "  libxcb1 libxdmcp6 libxext6 libxmu6 libxpm4 libxrender1 libxt6 ucf x11-common\n",
      "0 upgraded, 53 newly installed, 0 to remove and 23 not upgraded.\n",
      "Need to get 8330 kB of archives.\n",
      "After this operation, 29.6 MB of additional disk space will be used.\n",
      "Get:1 http://archive.ubuntu.com/ubuntu focal/main amd64 libbsd0 amd64 0.10.0-1 [45.4 kB]\n",
      "Get:2 http://archive.ubuntu.com/ubuntu focal-updates/main amd64 libfribidi0 amd64 1.0.8-2ubuntu0.1 [24.2 kB]\n",
      "Get:3 http://archive.ubuntu.com/ubuntu focal/main amd64 ucf all 3.0038+nmu1 [51.6 kB]\n",
      "Get:4 http://archive.ubuntu.com/ubuntu focal/main amd64 libpng16-16 amd64 1.6.37-2 [179 kB]\n",
      "Get:5 http://archive.ubuntu.com/ubuntu focal/main amd64 libxau6 amd64 1:1.0.9-0ubuntu1 [7488 B]\n",
      "Get:6 http://archive.ubuntu.com/ubuntu focal/main amd64 libxdmcp6 amd64 1:1.1.3-0ubuntu1 [10.6 kB]\n",
      "Get:7 http://archive.ubuntu.com/ubuntu focal/main amd64 libxcb1 amd64 1.14-2 [44.7 kB]\n",
      "Get:8 http://archive.ubuntu.com/ubuntu focal-updates/main amd64 libx11-data all 2:1.6.9-2ubuntu1.2 [113 kB]\n",
      "Get:9 http://archive.ubuntu.com/ubuntu focal-updates/main amd64 libx11-6 amd64 2:1.6.9-2ubuntu1.2 [575 kB]\n",
      "Get:10 http://archive.ubuntu.com/ubuntu focal/main amd64 libxext6 amd64 2:1.3.4-0ubuntu1 [29.1 kB]\n",
      "Get:11 http://archive.ubuntu.com/ubuntu focal-updates/main amd64 libfreetype6 amd64 2.10.1-2ubuntu0.2 [341 kB]\n",
      "Get:12 http://archive.ubuntu.com/ubuntu focal/main amd64 fonts-dejavu-core all 2.37-1 [1041 kB]\n",
      "Get:13 http://archive.ubuntu.com/ubuntu focal/main amd64 fonts-liberation all 1:1.07.4-11 [822 kB]\n",
      "Get:14 http://archive.ubuntu.com/ubuntu focal/main amd64 fontconfig-config all 2.13.1-2ubuntu3 [28.8 kB]\n",
      "Get:15 http://archive.ubuntu.com/ubuntu focal/main amd64 libfontconfig1 amd64 2.13.1-2ubuntu3 [114 kB]\n",
      "Get:16 http://archive.ubuntu.com/ubuntu focal/main amd64 fontconfig amd64 2.13.1-2ubuntu3 [171 kB]\n",
      "Get:17 http://archive.ubuntu.com/ubuntu focal/universe amd64 libann0 amd64 1.1.2+doc-7build1 [26.0 kB]\n",
      "Get:18 http://archive.ubuntu.com/ubuntu focal/universe amd64 libcdt5 amd64 2.42.2-3build2 [18.7 kB]\n",
      "Get:19 http://archive.ubuntu.com/ubuntu focal/universe amd64 libcgraph6 amd64 2.42.2-3build2 [41.3 kB]\n",
      "Get:20 http://archive.ubuntu.com/ubuntu focal-updates/main amd64 libjpeg-turbo8 amd64 2.0.3-0ubuntu1.20.04.3 [118 kB]\n",
      "Get:21 http://archive.ubuntu.com/ubuntu focal/main amd64 libjpeg8 amd64 8c-2ubuntu8 [2194 B]\n",
      "Get:22 http://archive.ubuntu.com/ubuntu focal-updates/main amd64 libjbig0 amd64 2.1-3.1ubuntu0.20.04.1 [27.3 kB]\n",
      "Get:23 http://archive.ubuntu.com/ubuntu focal-updates/main amd64 libwebp6 amd64 0.6.1-2ubuntu0.20.04.1 [185 kB]\n",
      "Get:24 http://archive.ubuntu.com/ubuntu focal-updates/main amd64 libtiff5 amd64 4.1.0+git191117-2ubuntu0.20.04.8 [163 kB]\n",
      "Get:25 http://archive.ubuntu.com/ubuntu focal-updates/main amd64 libxpm4 amd64 1:3.5.12-1ubuntu0.20.04.1 [34.6 kB]\n",
      "Get:26 http://archive.ubuntu.com/ubuntu focal-updates/main amd64 libgd3 amd64 2.2.5-5.2ubuntu2.1 [118 kB]\n",
      "Get:27 http://archive.ubuntu.com/ubuntu focal/universe amd64 libgts-0.7-5 amd64 0.7.6+darcs121130-4 [150 kB]\n",
      "Get:28 http://archive.ubuntu.com/ubuntu focal-updates/main amd64 libpixman-1-0 amd64 0.38.4-0ubuntu2.1 [227 kB]\n",
      "Get:29 http://archive.ubuntu.com/ubuntu focal/main amd64 libxcb-render0 amd64 1.14-2 [14.8 kB]\n",
      "Get:30 http://archive.ubuntu.com/ubuntu focal/main amd64 libxcb-shm0 amd64 1.14-2 [5584 B]\n",
      "Get:31 http://archive.ubuntu.com/ubuntu focal/main amd64 libxrender1 amd64 1:0.9.10-1 [18.7 kB]\n",
      "Get:32 http://archive.ubuntu.com/ubuntu focal/main amd64 libcairo2 amd64 1.16.0-4ubuntu1 [583 kB]\n",
      "Get:33 http://archive.ubuntu.com/ubuntu focal/main amd64 libltdl7 amd64 2.4.6-14 [38.5 kB]\n",
      "Get:34 http://archive.ubuntu.com/ubuntu focal/main amd64 libgraphite2-3 amd64 1.3.13-11build1 [73.5 kB]\n",
      "Get:35 http://archive.ubuntu.com/ubuntu focal-updates/main amd64 libharfbuzz0b amd64 2.6.4-1ubuntu4.2 [391 kB]\n",
      "Get:36 http://archive.ubuntu.com/ubuntu focal/main amd64 libthai-data all 0.1.28-3 [134 kB]\n",
      "Get:37 http://archive.ubuntu.com/ubuntu focal/main amd64 libdatrie1 amd64 0.2.12-3 [18.7 kB]\n",
      "Get:38 http://archive.ubuntu.com/ubuntu focal/main amd64 libthai0 amd64 0.1.28-3 [18.1 kB]\n",
      "Get:39 http://archive.ubuntu.com/ubuntu focal/main amd64 libpango-1.0-0 amd64 1.44.7-2ubuntu4 [162 kB]\n",
      "Get:40 http://archive.ubuntu.com/ubuntu focal/main amd64 libpangoft2-1.0-0 amd64 1.44.7-2ubuntu4 [34.9 kB]\n",
      "Get:41 http://archive.ubuntu.com/ubuntu focal/main amd64 libpangocairo-1.0-0 amd64 1.44.7-2ubuntu4 [24.8 kB]\n",
      "Get:42 http://archive.ubuntu.com/ubuntu focal/universe amd64 libpathplan4 amd64 2.42.2-3build2 [21.9 kB]\n",
      "Get:43 http://archive.ubuntu.com/ubuntu focal/universe amd64 libgvc6 amd64 2.42.2-3build2 [647 kB]\n",
      "Get:44 http://archive.ubuntu.com/ubuntu focal/universe amd64 libgvpr2 amd64 2.42.2-3build2 [167 kB]\n",
      "Get:45 http://archive.ubuntu.com/ubuntu focal/universe amd64 liblab-gamut1 amd64 2.42.2-3build2 [177 kB]\n",
      "Get:46 http://archive.ubuntu.com/ubuntu focal/main amd64 x11-common all 1:7.7+19ubuntu14 [22.3 kB]\n",
      "Get:47 http://archive.ubuntu.com/ubuntu focal/main amd64 libice6 amd64 2:1.0.10-0ubuntu1 [41.0 kB]\n",
      "Get:48 http://archive.ubuntu.com/ubuntu focal/main amd64 libsm6 amd64 2:1.2.3-1 [16.1 kB]\n",
      "Get:49 http://archive.ubuntu.com/ubuntu focal/main amd64 libxt6 amd64 1:1.1.5-1 [160 kB]\n",
      "Get:50 http://archive.ubuntu.com/ubuntu focal/main amd64 libxmu6 amd64 2:1.1.3-0ubuntu1 [45.8 kB]\n",
      "Get:51 http://archive.ubuntu.com/ubuntu focal/main amd64 libxaw7 amd64 2:1.0.13-1 [173 kB]\n",
      "Get:52 http://archive.ubuntu.com/ubuntu focal/universe amd64 graphviz amd64 2.42.2-3build2 [590 kB]\n",
      "Get:53 http://archive.ubuntu.com/ubuntu focal/universe amd64 libgts-bin amd64 0.7.6+darcs121130-4 [41.3 kB]\n",
      "Fetched 8330 kB in 12s (676 kB/s)                                              \n",
      "debconf: delaying package configuration, since apt-utils is not installed\n",
      "Selecting previously unselected package libbsd0:amd64.\n",
      "(Reading database ... 19765 files and directories currently installed.)\n",
      "Preparing to unpack .../00-libbsd0_0.10.0-1_amd64.deb ...\n",
      "Unpacking libbsd0:amd64 (0.10.0-1) ...\n",
      "Selecting previously unselected package libfribidi0:amd64.\n",
      "Preparing to unpack .../01-libfribidi0_1.0.8-2ubuntu0.1_amd64.deb ...\n",
      "Unpacking libfribidi0:amd64 (1.0.8-2ubuntu0.1) ...\n",
      "Selecting previously unselected package ucf.\n",
      "Preparing to unpack .../02-ucf_3.0038+nmu1_all.deb ...\n",
      "Moving old data out of the way\n",
      "Unpacking ucf (3.0038+nmu1) ...\n",
      "Selecting previously unselected package libpng16-16:amd64.\n",
      "Preparing to unpack .../03-libpng16-16_1.6.37-2_amd64.deb ...\n",
      "Unpacking libpng16-16:amd64 (1.6.37-2) ...\n",
      "Selecting previously unselected package libxau6:amd64.\n",
      "Preparing to unpack .../04-libxau6_1%3a1.0.9-0ubuntu1_amd64.deb ...\n",
      "Unpacking libxau6:amd64 (1:1.0.9-0ubuntu1) ...\n",
      "Selecting previously unselected package libxdmcp6:amd64.\n",
      "Preparing to unpack .../05-libxdmcp6_1%3a1.1.3-0ubuntu1_amd64.deb ...\n",
      "Unpacking libxdmcp6:amd64 (1:1.1.3-0ubuntu1) ...\n"
     ]
    },
    {
     "name": "stdout",
     "output_type": "stream",
     "text": [
      "Selecting previously unselected package libxcb1:amd64.\n",
      "Preparing to unpack .../06-libxcb1_1.14-2_amd64.deb ...\n",
      "Unpacking libxcb1:amd64 (1.14-2) ...\n",
      "Selecting previously unselected package libx11-data.\n",
      "Preparing to unpack .../07-libx11-data_2%3a1.6.9-2ubuntu1.2_all.deb ...\n",
      "Unpacking libx11-data (2:1.6.9-2ubuntu1.2) ...\n",
      "Selecting previously unselected package libx11-6:amd64.\n",
      "Preparing to unpack .../08-libx11-6_2%3a1.6.9-2ubuntu1.2_amd64.deb ...\n",
      "Unpacking libx11-6:amd64 (2:1.6.9-2ubuntu1.2) ...\n",
      "Selecting previously unselected package libxext6:amd64.\n",
      "Preparing to unpack .../09-libxext6_2%3a1.3.4-0ubuntu1_amd64.deb ...\n",
      "Unpacking libxext6:amd64 (2:1.3.4-0ubuntu1) ...\n",
      "Selecting previously unselected package libfreetype6:amd64.\n",
      "Preparing to unpack .../10-libfreetype6_2.10.1-2ubuntu0.2_amd64.deb ...\n",
      "Unpacking libfreetype6:amd64 (2.10.1-2ubuntu0.2) ...\n",
      "Selecting previously unselected package fonts-dejavu-core.\n",
      "Preparing to unpack .../11-fonts-dejavu-core_2.37-1_all.deb ...\n",
      "Unpacking fonts-dejavu-core (2.37-1) ...\n",
      "Selecting previously unselected package fonts-liberation.\n",
      "Preparing to unpack .../12-fonts-liberation_1%3a1.07.4-11_all.deb ...\n",
      "Unpacking fonts-liberation (1:1.07.4-11) ...\n",
      "Selecting previously unselected package fontconfig-config.\n",
      "Preparing to unpack .../13-fontconfig-config_2.13.1-2ubuntu3_all.deb ...\n",
      "Unpacking fontconfig-config (2.13.1-2ubuntu3) ...\n",
      "Selecting previously unselected package libfontconfig1:amd64.\n",
      "Preparing to unpack .../14-libfontconfig1_2.13.1-2ubuntu3_amd64.deb ...\n",
      "Unpacking libfontconfig1:amd64 (2.13.1-2ubuntu3) ...\n",
      "Selecting previously unselected package fontconfig.\n",
      "Preparing to unpack .../15-fontconfig_2.13.1-2ubuntu3_amd64.deb ...\n",
      "Unpacking fontconfig (2.13.1-2ubuntu3) ...\n",
      "Selecting previously unselected package libann0.\n",
      "Preparing to unpack .../16-libann0_1.1.2+doc-7build1_amd64.deb ...\n",
      "Unpacking libann0 (1.1.2+doc-7build1) ...\n",
      "Selecting previously unselected package libcdt5:amd64.\n",
      "Preparing to unpack .../17-libcdt5_2.42.2-3build2_amd64.deb ...\n",
      "Unpacking libcdt5:amd64 (2.42.2-3build2) ...\n",
      "Selecting previously unselected package libcgraph6:amd64.\n",
      "Preparing to unpack .../18-libcgraph6_2.42.2-3build2_amd64.deb ...\n",
      "Unpacking libcgraph6:amd64 (2.42.2-3build2) ...\n",
      "Selecting previously unselected package libjpeg-turbo8:amd64.\n",
      "Preparing to unpack .../19-libjpeg-turbo8_2.0.3-0ubuntu1.20.04.3_amd64.deb ...\n",
      "Unpacking libjpeg-turbo8:amd64 (2.0.3-0ubuntu1.20.04.3) ...\n",
      "Selecting previously unselected package libjpeg8:amd64.\n",
      "Preparing to unpack .../20-libjpeg8_8c-2ubuntu8_amd64.deb ...\n",
      "Unpacking libjpeg8:amd64 (8c-2ubuntu8) ...\n",
      "Selecting previously unselected package libjbig0:amd64.\n",
      "Preparing to unpack .../21-libjbig0_2.1-3.1ubuntu0.20.04.1_amd64.deb ...\n",
      "Unpacking libjbig0:amd64 (2.1-3.1ubuntu0.20.04.1) ...\n",
      "Selecting previously unselected package libwebp6:amd64.\n",
      "Preparing to unpack .../22-libwebp6_0.6.1-2ubuntu0.20.04.1_amd64.deb ...\n",
      "Unpacking libwebp6:amd64 (0.6.1-2ubuntu0.20.04.1) ...\n",
      "Selecting previously unselected package libtiff5:amd64.\n",
      "Preparing to unpack .../23-libtiff5_4.1.0+git191117-2ubuntu0.20.04.8_amd64.deb ...\n",
      "Unpacking libtiff5:amd64 (4.1.0+git191117-2ubuntu0.20.04.8) ...\n",
      "Selecting previously unselected package libxpm4:amd64.\n",
      "Preparing to unpack .../24-libxpm4_1%3a3.5.12-1ubuntu0.20.04.1_amd64.deb ...\n",
      "Unpacking libxpm4:amd64 (1:3.5.12-1ubuntu0.20.04.1) ...\n",
      "Selecting previously unselected package libgd3:amd64.\n",
      "Preparing to unpack .../25-libgd3_2.2.5-5.2ubuntu2.1_amd64.deb ...\n",
      "Unpacking libgd3:amd64 (2.2.5-5.2ubuntu2.1) ...\n",
      "Selecting previously unselected package libgts-0.7-5:amd64.\n",
      "Preparing to unpack .../26-libgts-0.7-5_0.7.6+darcs121130-4_amd64.deb ...\n",
      "Unpacking libgts-0.7-5:amd64 (0.7.6+darcs121130-4) ...\n",
      "Selecting previously unselected package libpixman-1-0:amd64.\n",
      "Preparing to unpack .../27-libpixman-1-0_0.38.4-0ubuntu2.1_amd64.deb ...\n",
      "Unpacking libpixman-1-0:amd64 (0.38.4-0ubuntu2.1) ...\n",
      "Selecting previously unselected package libxcb-render0:amd64.\n",
      "Preparing to unpack .../28-libxcb-render0_1.14-2_amd64.deb ...\n",
      "Unpacking libxcb-render0:amd64 (1.14-2) ...\n",
      "Selecting previously unselected package libxcb-shm0:amd64.\n",
      "Preparing to unpack .../29-libxcb-shm0_1.14-2_amd64.deb ...\n",
      "Unpacking libxcb-shm0:amd64 (1.14-2) ...\n",
      "Selecting previously unselected package libxrender1:amd64.\n",
      "Preparing to unpack .../30-libxrender1_1%3a0.9.10-1_amd64.deb ...\n",
      "Unpacking libxrender1:amd64 (1:0.9.10-1) ...\n",
      "Selecting previously unselected package libcairo2:amd64.\n",
      "Preparing to unpack .../31-libcairo2_1.16.0-4ubuntu1_amd64.deb ...\n",
      "Unpacking libcairo2:amd64 (1.16.0-4ubuntu1) ...\n",
      "Selecting previously unselected package libltdl7:amd64.\n",
      "Preparing to unpack .../32-libltdl7_2.4.6-14_amd64.deb ...\n",
      "Unpacking libltdl7:amd64 (2.4.6-14) ...\n",
      "Selecting previously unselected package libgraphite2-3:amd64.\n",
      "Preparing to unpack .../33-libgraphite2-3_1.3.13-11build1_amd64.deb ...\n",
      "Unpacking libgraphite2-3:amd64 (1.3.13-11build1) ...\n",
      "Selecting previously unselected package libharfbuzz0b:amd64.\n",
      "Preparing to unpack .../34-libharfbuzz0b_2.6.4-1ubuntu4.2_amd64.deb ...\n",
      "Unpacking libharfbuzz0b:amd64 (2.6.4-1ubuntu4.2) ...\n",
      "Selecting previously unselected package libthai-data.\n",
      "Preparing to unpack .../35-libthai-data_0.1.28-3_all.deb ...\n",
      "Unpacking libthai-data (0.1.28-3) ...\n",
      "Selecting previously unselected package libdatrie1:amd64.\n",
      "Preparing to unpack .../36-libdatrie1_0.2.12-3_amd64.deb ...\n",
      "Unpacking libdatrie1:amd64 (0.2.12-3) ...\n",
      "Selecting previously unselected package libthai0:amd64.\n",
      "Preparing to unpack .../37-libthai0_0.1.28-3_amd64.deb ...\n",
      "Unpacking libthai0:amd64 (0.1.28-3) ...\n",
      "Selecting previously unselected package libpango-1.0-0:amd64.\n",
      "Preparing to unpack .../38-libpango-1.0-0_1.44.7-2ubuntu4_amd64.deb ...\n",
      "Unpacking libpango-1.0-0:amd64 (1.44.7-2ubuntu4) ...\n",
      "Selecting previously unselected package libpangoft2-1.0-0:amd64.\n",
      "Preparing to unpack .../39-libpangoft2-1.0-0_1.44.7-2ubuntu4_amd64.deb ...\n",
      "Unpacking libpangoft2-1.0-0:amd64 (1.44.7-2ubuntu4) ...\n",
      "Selecting previously unselected package libpangocairo-1.0-0:amd64.\n",
      "Preparing to unpack .../40-libpangocairo-1.0-0_1.44.7-2ubuntu4_amd64.deb ...\n",
      "Unpacking libpangocairo-1.0-0:amd64 (1.44.7-2ubuntu4) ...\n",
      "Selecting previously unselected package libpathplan4:amd64.\n",
      "Preparing to unpack .../41-libpathplan4_2.42.2-3build2_amd64.deb ...\n",
      "Unpacking libpathplan4:amd64 (2.42.2-3build2) ...\n",
      "Selecting previously unselected package libgvc6.\n",
      "Preparing to unpack .../42-libgvc6_2.42.2-3build2_amd64.deb ...\n",
      "Unpacking libgvc6 (2.42.2-3build2) ...\n",
      "Selecting previously unselected package libgvpr2:amd64.\n",
      "Preparing to unpack .../43-libgvpr2_2.42.2-3build2_amd64.deb ...\n",
      "Unpacking libgvpr2:amd64 (2.42.2-3build2) ...\n",
      "Selecting previously unselected package liblab-gamut1:amd64.\n",
      "Preparing to unpack .../44-liblab-gamut1_2.42.2-3build2_amd64.deb ...\n",
      "Unpacking liblab-gamut1:amd64 (2.42.2-3build2) ...\n",
      "Selecting previously unselected package x11-common.\n",
      "Preparing to unpack .../45-x11-common_1%3a7.7+19ubuntu14_all.deb ...\n",
      "dpkg-query: no packages found matching nux-tools\n",
      "Unpacking x11-common (1:7.7+19ubuntu14) ...\n",
      "Selecting previously unselected package libice6:amd64.\n",
      "Preparing to unpack .../46-libice6_2%3a1.0.10-0ubuntu1_amd64.deb ...\n",
      "Unpacking libice6:amd64 (2:1.0.10-0ubuntu1) ...\n",
      "Selecting previously unselected package libsm6:amd64.\n",
      "Preparing to unpack .../47-libsm6_2%3a1.2.3-1_amd64.deb ...\n",
      "Unpacking libsm6:amd64 (2:1.2.3-1) ...\n",
      "Selecting previously unselected package libxt6:amd64.\n",
      "Preparing to unpack .../48-libxt6_1%3a1.1.5-1_amd64.deb ...\n",
      "Unpacking libxt6:amd64 (1:1.1.5-1) ...\n",
      "Selecting previously unselected package libxmu6:amd64.\n",
      "Preparing to unpack .../49-libxmu6_2%3a1.1.3-0ubuntu1_amd64.deb ...\n",
      "Unpacking libxmu6:amd64 (2:1.1.3-0ubuntu1) ...\n",
      "Selecting previously unselected package libxaw7:amd64.\n",
      "Preparing to unpack .../50-libxaw7_2%3a1.0.13-1_amd64.deb ...\n",
      "Unpacking libxaw7:amd64 (2:1.0.13-1) ...\n",
      "Selecting previously unselected package graphviz.\n",
      "Preparing to unpack .../51-graphviz_2.42.2-3build2_amd64.deb ...\n",
      "Unpacking graphviz (2.42.2-3build2) ...\n",
      "Selecting previously unselected package libgts-bin.\n",
      "Preparing to unpack .../52-libgts-bin_0.7.6+darcs121130-4_amd64.deb ...\n",
      "Unpacking libgts-bin (0.7.6+darcs121130-4) ...\n",
      "Setting up libgraphite2-3:amd64 (1.3.13-11build1) ...\n",
      "Setting up libpixman-1-0:amd64 (0.38.4-0ubuntu2.1) ...\n",
      "Setting up libxau6:amd64 (1:1.0.9-0ubuntu1) ...\n",
      "Setting up libdatrie1:amd64 (0.2.12-3) ...\n"
     ]
    },
    {
     "name": "stdout",
     "output_type": "stream",
     "text": [
      "Setting up liblab-gamut1:amd64 (2.42.2-3build2) ...\n",
      "Setting up x11-common (1:7.7+19ubuntu14) ...\n",
      "update-rc.d: warning: start and stop actions are no longer supported; falling back to defaults\n",
      "invoke-rc.d: could not determine current runlevel\n",
      "invoke-rc.d: policy-rc.d denied execution of start.\n",
      "Setting up libjbig0:amd64 (2.1-3.1ubuntu0.20.04.1) ...\n",
      "Setting up libgts-0.7-5:amd64 (0.7.6+darcs121130-4) ...\n",
      "Setting up libx11-data (2:1.6.9-2ubuntu1.2) ...\n",
      "Setting up libpathplan4:amd64 (2.42.2-3build2) ...\n",
      "Setting up libann0 (1.1.2+doc-7build1) ...\n",
      "Setting up libfribidi0:amd64 (1.0.8-2ubuntu0.1) ...\n",
      "Setting up libpng16-16:amd64 (1.6.37-2) ...\n",
      "Setting up libwebp6:amd64 (0.6.1-2ubuntu0.20.04.1) ...\n",
      "Setting up fonts-dejavu-core (2.37-1) ...\n",
      "Setting up ucf (3.0038+nmu1) ...\n",
      "Setting up libjpeg-turbo8:amd64 (2.0.3-0ubuntu1.20.04.3) ...\n",
      "Setting up libltdl7:amd64 (2.4.6-14) ...\n",
      "Setting up fonts-liberation (1:1.07.4-11) ...\n",
      "Setting up libthai-data (0.1.28-3) ...\n",
      "Setting up libcdt5:amd64 (2.42.2-3build2) ...\n",
      "Setting up libcgraph6:amd64 (2.42.2-3build2) ...\n",
      "Setting up libbsd0:amd64 (0.10.0-1) ...\n",
      "Setting up libjpeg8:amd64 (8c-2ubuntu8) ...\n",
      "Setting up libgts-bin (0.7.6+darcs121130-4) ...\n",
      "Setting up libice6:amd64 (2:1.0.10-0ubuntu1) ...\n",
      "Setting up libxdmcp6:amd64 (1:1.1.3-0ubuntu1) ...\n",
      "Setting up libxcb1:amd64 (1.14-2) ...\n",
      "Setting up libxcb-render0:amd64 (1.14-2) ...\n",
      "Setting up fontconfig-config (2.13.1-2ubuntu3) ...\n",
      "Setting up libxcb-shm0:amd64 (1.14-2) ...\n",
      "Setting up libthai0:amd64 (0.1.28-3) ...\n",
      "Setting up libfreetype6:amd64 (2.10.1-2ubuntu0.2) ...\n",
      "Setting up libgvpr2:amd64 (2.42.2-3build2) ...\n",
      "Setting up libx11-6:amd64 (2:1.6.9-2ubuntu1.2) ...\n",
      "Setting up libharfbuzz0b:amd64 (2.6.4-1ubuntu4.2) ...\n",
      "Setting up libtiff5:amd64 (4.1.0+git191117-2ubuntu0.20.04.8) ...\n",
      "Setting up libfontconfig1:amd64 (2.13.1-2ubuntu3) ...\n",
      "Setting up libsm6:amd64 (2:1.2.3-1) ...\n",
      "Setting up fontconfig (2.13.1-2ubuntu3) ...\n",
      "Regenerating fonts cache... done.\n",
      "Setting up libxpm4:amd64 (1:3.5.12-1ubuntu0.20.04.1) ...\n",
      "Setting up libxrender1:amd64 (1:0.9.10-1) ...\n",
      "Setting up libpango-1.0-0:amd64 (1.44.7-2ubuntu4) ...\n",
      "Setting up libxext6:amd64 (2:1.3.4-0ubuntu1) ...\n",
      "Setting up libcairo2:amd64 (1.16.0-4ubuntu1) ...\n",
      "Setting up libgd3:amd64 (2.2.5-5.2ubuntu2.1) ...\n",
      "Setting up libxt6:amd64 (1:1.1.5-1) ...\n",
      "Setting up libpangoft2-1.0-0:amd64 (1.44.7-2ubuntu4) ...\n",
      "Setting up libpangocairo-1.0-0:amd64 (1.44.7-2ubuntu4) ...\n",
      "Setting up libxmu6:amd64 (2:1.1.3-0ubuntu1) ...\n",
      "Setting up libxaw7:amd64 (2:1.0.13-1) ...\n",
      "Setting up libgvc6 (2.42.2-3build2) ...\n",
      "Setting up graphviz (2.42.2-3build2) ...\n",
      "Processing triggers for systemd (245.4-4ubuntu3.20) ...\n",
      "Processing triggers for libc-bin (2.31-0ubuntu9.9) ...\n"
     ]
    }
   ],
   "source": [
    "!apt-get install graphviz -y"
   ]
  },
  {
   "cell_type": "markdown",
   "metadata": {},
   "source": [
    "<font color='red'>Import the necessary libraries</font>"
   ]
  },
  {
   "cell_type": "code",
   "execution_count": 2,
   "metadata": {},
   "outputs": [
    {
     "name": "stderr",
     "output_type": "stream",
     "text": [
      "2023-04-06 17:02:28.463395: I tensorflow/core/util/port.cc:110] oneDNN custom operations are on. You may see slightly different numerical results due to floating-point round-off errors from different computation orders. To turn them off, set the environment variable `TF_ENABLE_ONEDNN_OPTS=0`.\n",
      "2023-04-06 17:02:28.499156: I tensorflow/core/platform/cpu_feature_guard.cc:182] This TensorFlow binary is optimized to use available CPU instructions in performance-critical operations.\n",
      "To enable the following instructions: AVX2 AVX512F AVX512_VNNI FMA, in other operations, rebuild TensorFlow with the appropriate compiler flags.\n"
     ]
    }
   ],
   "source": [
    "import tensorflow as tf\n",
    "import os\n",
    "import numpy as np\n",
    "import pandas as pd\n",
    "from sklearn.preprocessing import LabelEncoder\n",
    "from sklearn.metrics import confusion_matrix\n",
    "import time\n",
    "import tensorflow_hub as hub\n",
    "import string"
   ]
  },
  {
   "cell_type": "code",
   "execution_count": 6,
   "metadata": {},
   "outputs": [
    {
     "data": {
      "text/plain": [
       "'2.12.0'"
      ]
     },
     "execution_count": 6,
     "metadata": {},
     "output_type": "execute_result"
    }
   ],
   "source": [
    "tf.__version__"
   ]
  },
  {
   "cell_type": "markdown",
   "metadata": {},
   "source": [
    "<font color='red'>Download the PubMed200kRCT_medical_abstracts dataset, which is a collection of around 200,000 labelled Randomized Controlled Trial (RCT) abstracts, from the paper titled [\"PubMed 200k RCT: a Dataset for Sequential Sentence Classification in Medical Abstracts\"](https://arxiv.org/abs/1710.06071) published in 2017. For more detailed information about the datasets, please refer to the original paper.</font>"
   ]
  },
  {
   "cell_type": "code",
   "execution_count": 29,
   "metadata": {},
   "outputs": [
    {
     "name": "stdout",
     "output_type": "stream",
     "text": [
      "Cloning into 'pubmed-rct'...\n",
      "remote: Enumerating objects: 33, done.\u001b[K\n",
      "remote: Counting objects: 100% (8/8), done.\u001b[K\n",
      "remote: Compressing objects: 100% (3/3), done.\u001b[K\n",
      "remote: Total 33 (delta 5), reused 5 (delta 5), pack-reused 25\u001b[K\n",
      "Unpacking objects: 100% (33/33), done.\n"
     ]
    }
   ],
   "source": [
    "!git clone https://github.com/Franck-Dernoncourt/pubmed-rct.git"
   ]
  },
  {
   "cell_type": "code",
   "execution_count": 30,
   "metadata": {
    "scrolled": false
   },
   "outputs": [
    {
     "name": "stdout",
     "output_type": "stream",
     "text": [
      "PubMed_200k_RCT\r\n",
      "PubMed_200k_RCT_numbers_replaced_with_at_sign\r\n",
      "PubMed_20k_RCT\r\n",
      "PubMed_20k_RCT_numbers_replaced_with_at_sign\r\n",
      "README.md\r\n"
     ]
    }
   ],
   "source": [
    "!ls pubmed-rct"
   ]
  },
  {
   "cell_type": "code",
   "execution_count": 35,
   "metadata": {
    "scrolled": true
   },
   "outputs": [
    {
     "name": "stdout",
     "output_type": "stream",
     "text": [
      "dev.txt  test.txt  train.zip\r\n"
     ]
    }
   ],
   "source": [
    "!ls pubmed-rct/PubMed_200k_RCT_numbers_replaced_with_at_sign"
   ]
  },
  {
   "cell_type": "code",
   "execution_count": 47,
   "metadata": {
    "scrolled": true
   },
   "outputs": [
    {
     "name": "stdout",
     "output_type": "stream",
     "text": [
      "Archive:  pubmed-rct/PubMed_200k_RCT_numbers_replaced_with_at_sign/train.zip\n",
      "  inflating: pubmed-rct/PubMed_200k_RCT_numbers_replaced_with_at_sign/train.txt  \n"
     ]
    }
   ],
   "source": [
    "!unzip pubmed-rct/PubMed_200k_RCT_numbers_replaced_with_at_sign/train.zip -d pubmed-rct/PubMed_200k_RCT_numbers_replaced_with_at_sign/"
   ]
  },
  {
   "cell_type": "code",
   "execution_count": 48,
   "metadata": {},
   "outputs": [
    {
     "name": "stdout",
     "output_type": "stream",
     "text": [
      "dev.txt  test.txt  train.txt  train.zip\r\n"
     ]
    }
   ],
   "source": [
    "!ls pubmed-rct/PubMed_200k_RCT_numbers_replaced_with_at_sign"
   ]
  },
  {
   "cell_type": "markdown",
   "metadata": {},
   "source": [
    "<font color='red'>Load the dataset from txt files and read their contents.</font>"
   ]
  },
  {
   "cell_type": "code",
   "execution_count": 3,
   "metadata": {
    "scrolled": false
   },
   "outputs": [],
   "source": [
    "train_data = open(\"pubmed-rct/PubMed_200k_RCT_numbers_replaced_with_at_sign/train.txt\", 'r').readlines()\n",
    "test_data = open(\"pubmed-rct/PubMed_200k_RCT_numbers_replaced_with_at_sign/test.txt\", 'r').readlines()\n",
    "val_data = open(\"pubmed-rct/PubMed_200k_RCT_numbers_replaced_with_at_sign/dev.txt\", 'r').readlines()"
   ]
  },
  {
   "cell_type": "code",
   "execution_count": 52,
   "metadata": {},
   "outputs": [
    {
     "data": {
      "text/plain": [
       "['###24491034\\n',\n",
       " 'BACKGROUND\\tThe emergence of HIV as a chronic condition means that people living with HIV are required to take more responsibility for the self-management of their condition , including making physical , emotional and social adjustments .\\n',\n",
       " 'BACKGROUND\\tThis paper describes the design and evaluation of Positive Outlook , an online program aiming to enhance the self-management skills of gay men living with HIV .\\n']"
      ]
     },
     "execution_count": 52,
     "metadata": {},
     "output_type": "execute_result"
    }
   ],
   "source": [
    "train_data[:3]"
   ]
  },
  {
   "cell_type": "markdown",
   "metadata": {},
   "source": [
    "<font color='red'>Dataset Preparation: Separating Input Features and Target</font>"
   ]
  },
  {
   "cell_type": "code",
   "execution_count": 4,
   "metadata": {},
   "outputs": [],
   "source": [
    "def prepare_data(data):\n",
    "    all_data = []\n",
    "    one_abstract = ''\n",
    "    for line in data:\n",
    "        if line.startswith(\"###\"):\n",
    "            pass\n",
    "        elif line.isspace():\n",
    "            one_abstract = one_abstract.split(\"\\n\") \n",
    "            for i, text in enumerate(one_abstract):\n",
    "                dict_data = {}\n",
    "                split = text.split(\"\\t\")\n",
    "                if len(split) > 1: \n",
    "                    label = split[0]\n",
    "                    target = '' . join(split[1]).strip()\n",
    "                    dict_data['target'] = label\n",
    "                    dict_data['text'] = target\n",
    "                    dict_data['line_index'] = i + 1\n",
    "                    dict_data['total_lines'] = len(one_abstract) \n",
    "                    \n",
    "                    all_data.append(dict_data)\n",
    "                \n",
    "            one_abstract = '' \n",
    "        else:\n",
    "            one_abstract += line\n",
    "            \n",
    "    return all_data "
   ]
  },
  {
   "cell_type": "code",
   "execution_count": 5,
   "metadata": {},
   "outputs": [],
   "source": [
    "train_raw = pd.DataFrame(prepare_data(train_data))\n",
    "test_raw = pd.DataFrame(prepare_data(test_data))\n",
    "val_raw = pd.DataFrame(prepare_data(val_data))"
   ]
  },
  {
   "cell_type": "code",
   "execution_count": 55,
   "metadata": {
    "scrolled": true
   },
   "outputs": [
    {
     "data": {
      "text/html": [
       "<div>\n",
       "<style scoped>\n",
       "    .dataframe tbody tr th:only-of-type {\n",
       "        vertical-align: middle;\n",
       "    }\n",
       "\n",
       "    .dataframe tbody tr th {\n",
       "        vertical-align: top;\n",
       "    }\n",
       "\n",
       "    .dataframe thead th {\n",
       "        text-align: right;\n",
       "    }\n",
       "</style>\n",
       "<table border=\"1\" class=\"dataframe\">\n",
       "  <thead>\n",
       "    <tr style=\"text-align: right;\">\n",
       "      <th></th>\n",
       "      <th>target</th>\n",
       "      <th>text</th>\n",
       "      <th>line_index</th>\n",
       "      <th>total_lines</th>\n",
       "    </tr>\n",
       "  </thead>\n",
       "  <tbody>\n",
       "    <tr>\n",
       "      <th>0</th>\n",
       "      <td>BACKGROUND</td>\n",
       "      <td>The emergence of HIV as a chronic condition me...</td>\n",
       "      <td>1</td>\n",
       "      <td>12</td>\n",
       "    </tr>\n",
       "    <tr>\n",
       "      <th>1</th>\n",
       "      <td>BACKGROUND</td>\n",
       "      <td>This paper describes the design and evaluation...</td>\n",
       "      <td>2</td>\n",
       "      <td>12</td>\n",
       "    </tr>\n",
       "    <tr>\n",
       "      <th>2</th>\n",
       "      <td>METHODS</td>\n",
       "      <td>This study is designed as a randomised control...</td>\n",
       "      <td>3</td>\n",
       "      <td>12</td>\n",
       "    </tr>\n",
       "    <tr>\n",
       "      <th>3</th>\n",
       "      <td>METHODS</td>\n",
       "      <td>The intervention group will participate in the...</td>\n",
       "      <td>4</td>\n",
       "      <td>12</td>\n",
       "    </tr>\n",
       "    <tr>\n",
       "      <th>4</th>\n",
       "      <td>METHODS</td>\n",
       "      <td>The program is based on self-efficacy theory a...</td>\n",
       "      <td>5</td>\n",
       "      <td>12</td>\n",
       "    </tr>\n",
       "  </tbody>\n",
       "</table>\n",
       "</div>"
      ],
      "text/plain": [
       "       target                                               text  line_index  \\\n",
       "0  BACKGROUND  The emergence of HIV as a chronic condition me...           1   \n",
       "1  BACKGROUND  This paper describes the design and evaluation...           2   \n",
       "2     METHODS  This study is designed as a randomised control...           3   \n",
       "3     METHODS  The intervention group will participate in the...           4   \n",
       "4     METHODS  The program is based on self-efficacy theory a...           5   \n",
       "\n",
       "   total_lines  \n",
       "0           12  \n",
       "1           12  \n",
       "2           12  \n",
       "3           12  \n",
       "4           12  "
      ]
     },
     "execution_count": 55,
     "metadata": {},
     "output_type": "execute_result"
    }
   ],
   "source": [
    "train_raw.head()"
   ]
  },
  {
   "cell_type": "code",
   "execution_count": 6,
   "metadata": {},
   "outputs": [],
   "source": [
    "x_train_raw, y_train_raw = train_raw.text, train_raw.target\n",
    "x_test_raw, y_test_raw = test_raw.text, test_raw.target\n",
    "x_val_raw, y_val_raw = val_raw.text, val_raw.target"
   ]
  },
  {
   "cell_type": "code",
   "execution_count": 16,
   "metadata": {
    "scrolled": true
   },
   "outputs": [
    {
     "data": {
      "text/plain": [
       "('The emergence of HIV as a chronic condition means that people living with HIV are required to take more responsibility for the self-management of their condition , including making physical , emotional and social adjustments .',\n",
       " 'BACKGROUND')"
      ]
     },
     "execution_count": 16,
     "metadata": {},
     "output_type": "execute_result"
    }
   ],
   "source": [
    "x_train_raw[0], y_train_raw[0]"
   ]
  },
  {
   "cell_type": "markdown",
   "metadata": {},
   "source": [
    "<font color='red'>Convert the label into integer values for encoding in preparation to be fed into the network.</font>"
   ]
  },
  {
   "cell_type": "code",
   "execution_count": 7,
   "metadata": {},
   "outputs": [
    {
     "data": {
      "text/html": [
       "<style>#sk-container-id-1 {color: black;background-color: white;}#sk-container-id-1 pre{padding: 0;}#sk-container-id-1 div.sk-toggleable {background-color: white;}#sk-container-id-1 label.sk-toggleable__label {cursor: pointer;display: block;width: 100%;margin-bottom: 0;padding: 0.3em;box-sizing: border-box;text-align: center;}#sk-container-id-1 label.sk-toggleable__label-arrow:before {content: \"▸\";float: left;margin-right: 0.25em;color: #696969;}#sk-container-id-1 label.sk-toggleable__label-arrow:hover:before {color: black;}#sk-container-id-1 div.sk-estimator:hover label.sk-toggleable__label-arrow:before {color: black;}#sk-container-id-1 div.sk-toggleable__content {max-height: 0;max-width: 0;overflow: hidden;text-align: left;background-color: #f0f8ff;}#sk-container-id-1 div.sk-toggleable__content pre {margin: 0.2em;color: black;border-radius: 0.25em;background-color: #f0f8ff;}#sk-container-id-1 input.sk-toggleable__control:checked~div.sk-toggleable__content {max-height: 200px;max-width: 100%;overflow: auto;}#sk-container-id-1 input.sk-toggleable__control:checked~label.sk-toggleable__label-arrow:before {content: \"▾\";}#sk-container-id-1 div.sk-estimator input.sk-toggleable__control:checked~label.sk-toggleable__label {background-color: #d4ebff;}#sk-container-id-1 div.sk-label input.sk-toggleable__control:checked~label.sk-toggleable__label {background-color: #d4ebff;}#sk-container-id-1 input.sk-hidden--visually {border: 0;clip: rect(1px 1px 1px 1px);clip: rect(1px, 1px, 1px, 1px);height: 1px;margin: -1px;overflow: hidden;padding: 0;position: absolute;width: 1px;}#sk-container-id-1 div.sk-estimator {font-family: monospace;background-color: #f0f8ff;border: 1px dotted black;border-radius: 0.25em;box-sizing: border-box;margin-bottom: 0.5em;}#sk-container-id-1 div.sk-estimator:hover {background-color: #d4ebff;}#sk-container-id-1 div.sk-parallel-item::after {content: \"\";width: 100%;border-bottom: 1px solid gray;flex-grow: 1;}#sk-container-id-1 div.sk-label:hover label.sk-toggleable__label {background-color: #d4ebff;}#sk-container-id-1 div.sk-serial::before {content: \"\";position: absolute;border-left: 1px solid gray;box-sizing: border-box;top: 0;bottom: 0;left: 50%;z-index: 0;}#sk-container-id-1 div.sk-serial {display: flex;flex-direction: column;align-items: center;background-color: white;padding-right: 0.2em;padding-left: 0.2em;position: relative;}#sk-container-id-1 div.sk-item {position: relative;z-index: 1;}#sk-container-id-1 div.sk-parallel {display: flex;align-items: stretch;justify-content: center;background-color: white;position: relative;}#sk-container-id-1 div.sk-item::before, #sk-container-id-1 div.sk-parallel-item::before {content: \"\";position: absolute;border-left: 1px solid gray;box-sizing: border-box;top: 0;bottom: 0;left: 50%;z-index: -1;}#sk-container-id-1 div.sk-parallel-item {display: flex;flex-direction: column;z-index: 1;position: relative;background-color: white;}#sk-container-id-1 div.sk-parallel-item:first-child::after {align-self: flex-end;width: 50%;}#sk-container-id-1 div.sk-parallel-item:last-child::after {align-self: flex-start;width: 50%;}#sk-container-id-1 div.sk-parallel-item:only-child::after {width: 0;}#sk-container-id-1 div.sk-dashed-wrapped {border: 1px dashed gray;margin: 0 0.4em 0.5em 0.4em;box-sizing: border-box;padding-bottom: 0.4em;background-color: white;}#sk-container-id-1 div.sk-label label {font-family: monospace;font-weight: bold;display: inline-block;line-height: 1.2em;}#sk-container-id-1 div.sk-label-container {text-align: center;}#sk-container-id-1 div.sk-container {/* jupyter's `normalize.less` sets `[hidden] { display: none; }` but bootstrap.min.css set `[hidden] { display: none !important; }` so we also need the `!important` here to be able to override the default hidden behavior on the sphinx rendered scikit-learn.org. See: https://github.com/scikit-learn/scikit-learn/issues/21755 */display: inline-block !important;position: relative;}#sk-container-id-1 div.sk-text-repr-fallback {display: none;}</style><div id=\"sk-container-id-1\" class=\"sk-top-container\"><div class=\"sk-text-repr-fallback\"><pre>LabelEncoder()</pre><b>In a Jupyter environment, please rerun this cell to show the HTML representation or trust the notebook. <br />On GitHub, the HTML representation is unable to render, please try loading this page with nbviewer.org.</b></div><div class=\"sk-container\" hidden><div class=\"sk-item\"><div class=\"sk-estimator sk-toggleable\"><input class=\"sk-toggleable__control sk-hidden--visually\" id=\"sk-estimator-id-1\" type=\"checkbox\" checked><label for=\"sk-estimator-id-1\" class=\"sk-toggleable__label sk-toggleable__label-arrow\">LabelEncoder</label><div class=\"sk-toggleable__content\"><pre>LabelEncoder()</pre></div></div></div></div></div>"
      ],
      "text/plain": [
       "LabelEncoder()"
      ]
     },
     "execution_count": 7,
     "metadata": {},
     "output_type": "execute_result"
    }
   ],
   "source": [
    "encoder = LabelEncoder()\n",
    "encoder.fit(y_train_raw)"
   ]
  },
  {
   "cell_type": "code",
   "execution_count": 8,
   "metadata": {},
   "outputs": [],
   "source": [
    "y_train_raw_en = encoder.transform(y_train_raw)\n",
    "y_test_raw_en = encoder.transform(y_test_raw)\n",
    "y_val_raw_en = encoder.transform(y_val_raw)"
   ]
  },
  {
   "cell_type": "code",
   "execution_count": 8,
   "metadata": {
    "scrolled": true
   },
   "outputs": [
    {
     "data": {
      "text/plain": [
       "array([0, 0, 2, 2, 2, 2, 2, 2, 2, 1])"
      ]
     },
     "execution_count": 8,
     "metadata": {},
     "output_type": "execute_result"
    }
   ],
   "source": [
    "y_train_raw_en[:10]"
   ]
  },
  {
   "cell_type": "markdown",
   "metadata": {},
   "source": [
    "<font color='red'>Convert the dataset into a tensor format.</font>"
   ]
  },
  {
   "cell_type": "code",
   "execution_count": 9,
   "metadata": {},
   "outputs": [
    {
     "name": "stderr",
     "output_type": "stream",
     "text": [
      "2023-04-06 17:03:00.949411: I tensorflow/core/common_runtime/gpu/gpu_device.cc:1635] Created device /job:localhost/replica:0/task:0/device:GPU:0 with 22054 MB memory:  -> device: 0, name: NVIDIA GeForce RTX 3090, pci bus id: 0000:65:00.0, compute capability: 8.6\n"
     ]
    }
   ],
   "source": [
    "train = tf.data.Dataset.from_tensor_slices((x_train_raw[:], y_train_raw_en[:]))\n",
    "test = tf.data.Dataset.from_tensor_slices((x_test_raw, y_test_raw_en))\n",
    "val = tf.data.Dataset.from_tensor_slices((x_val_raw, y_val_raw_en))"
   ]
  },
  {
   "cell_type": "markdown",
   "metadata": {},
   "source": [
    "<font color='red'>\n",
    "    Configure the token count and sequence length for text vectorization and embedding.\n",
    "</font>\n",
    "</br>\n",
    "    \n",
    "    APPROXIMATE_TOKEN_COUNT: I calculated the approximate token count based on the number of unique tokens in the entire training set.\n",
    "\n",
    "    SEQ_LENGTH: I determined the sequence length based on the occurrence of tokens in the dataset, where I selected the length that covers approximately 97% of the tokens in the dataset.\n",
    "\n"
   ]
  },
  {
   "cell_type": "code",
   "execution_count": 10,
   "metadata": {},
   "outputs": [],
   "source": [
    "APPROXIMATE_TOKEN_COUNT = len(set(' ' . join(x_train_raw).split(' ')))\n",
    "SEQ_LENGTH = int(np.percentile([len(x) for x in x_train_raw], 97))"
   ]
  },
  {
   "cell_type": "code",
   "execution_count": 90,
   "metadata": {},
   "outputs": [
    {
     "data": {
      "text/plain": [
       "(326178, 314)"
      ]
     },
     "execution_count": 90,
     "metadata": {},
     "output_type": "execute_result"
    }
   ],
   "source": [
    "APPROXIMATE_TOKEN_COUNT, SEQ_LENGTH"
   ]
  },
  {
   "cell_type": "markdown",
   "metadata": {},
   "source": [
    "<font color='red'>We will set up the vectorization and embedding model to process the input sentences, focusing on **text-level features**.</font>\n",
    "    \n",
    "    The dataset adaptation process may take some time due to the large amount of data. To address this, you can consider using transfer learning by extracting pre-trained embeddings from existing models, which can provide better features and save time as well. But, in this case, we will not be using that approach."
   ]
  },
  {
   "cell_type": "code",
   "execution_count": 11,
   "metadata": {
    "scrolled": true
   },
   "outputs": [],
   "source": [
    "vectorize = tf.keras.layers.TextVectorization(max_tokens=APPROXIMATE_TOKEN_COUNT,\n",
    "                                              output_mode=\"int\",\n",
    "                                              output_sequence_length=SEQ_LENGTH,\n",
    "                                              split=\"whitespace\")"
   ]
  },
  {
   "cell_type": "code",
   "execution_count": 12,
   "metadata": {
    "scrolled": true
   },
   "outputs": [
    {
     "name": "stdout",
     "output_type": "stream",
     "text": [
      "855.8049010419927 seconds\n"
     ]
    }
   ],
   "source": [
    "start_time = time.perf_counter()\n",
    "vectorize.adapt(x_train_raw, batch_size=32)\n",
    "end_time = time.perf_counter()\n",
    "print(end_time - start_time, 'seconds') # 890.2296672859957 seconds in average"
   ]
  },
  {
   "cell_type": "code",
   "execution_count": 13,
   "metadata": {
    "scrolled": false
   },
   "outputs": [
    {
     "data": {
      "text/plain": [
       "<tf.Tensor: shape=(1, 314), dtype=int64, numpy=\n",
       "array([[   2, 3009,    3,  545,   25,    8,  241,  559,  970,   26,  656,\n",
       "        1234,    7,  545,   67,  408,    6, 2116,   59, 9855,   12,    2,\n",
       "        2288,    3,  123,  559,  309, 2220,  239, 1528,    4,  642, 4723,\n",
       "           0,    0,    0,    0,    0,    0,    0,    0,    0,    0,    0,\n",
       "           0,    0,    0,    0,    0,    0,    0,    0,    0,    0,    0,\n",
       "           0,    0,    0,    0,    0,    0,    0,    0,    0,    0,    0,\n",
       "           0,    0,    0,    0,    0,    0,    0,    0,    0,    0,    0,\n",
       "           0,    0,    0,    0,    0,    0,    0,    0,    0,    0,    0,\n",
       "           0,    0,    0,    0,    0,    0,    0,    0,    0,    0,    0,\n",
       "           0,    0,    0,    0,    0,    0,    0,    0,    0,    0,    0,\n",
       "           0,    0,    0,    0,    0,    0,    0,    0,    0,    0,    0,\n",
       "           0,    0,    0,    0,    0,    0,    0,    0,    0,    0,    0,\n",
       "           0,    0,    0,    0,    0,    0,    0,    0,    0,    0,    0,\n",
       "           0,    0,    0,    0,    0,    0,    0,    0,    0,    0,    0,\n",
       "           0,    0,    0,    0,    0,    0,    0,    0,    0,    0,    0,\n",
       "           0,    0,    0,    0,    0,    0,    0,    0,    0,    0,    0,\n",
       "           0,    0,    0,    0,    0,    0,    0,    0,    0,    0,    0,\n",
       "           0,    0,    0,    0,    0,    0,    0,    0,    0,    0,    0,\n",
       "           0,    0,    0,    0,    0,    0,    0,    0,    0,    0,    0,\n",
       "           0,    0,    0,    0,    0,    0,    0,    0,    0,    0,    0,\n",
       "           0,    0,    0,    0,    0,    0,    0,    0,    0,    0,    0,\n",
       "           0,    0,    0,    0,    0,    0,    0,    0,    0,    0,    0,\n",
       "           0,    0,    0,    0,    0,    0,    0,    0,    0,    0,    0,\n",
       "           0,    0,    0,    0,    0,    0,    0,    0,    0,    0,    0,\n",
       "           0,    0,    0,    0,    0,    0,    0,    0,    0,    0,    0,\n",
       "           0,    0,    0,    0,    0,    0,    0,    0,    0,    0,    0,\n",
       "           0,    0,    0,    0,    0,    0,    0,    0,    0,    0,    0,\n",
       "           0,    0,    0,    0,    0,    0,    0,    0,    0,    0,    0,\n",
       "           0,    0,    0,    0,    0,    0]])>"
      ]
     },
     "execution_count": 13,
     "metadata": {},
     "output_type": "execute_result"
    }
   ],
   "source": [
    "vectorize([x_train_raw[0]])"
   ]
  },
  {
   "cell_type": "code",
   "execution_count": 14,
   "metadata": {},
   "outputs": [],
   "source": [
    "embedding = tf.keras.layers.Embedding(input_dim=APPROXIMATE_TOKEN_COUNT, \n",
    "                                      output_dim=256, \n",
    "                                      input_length=SEQ_LENGTH)"
   ]
  },
  {
   "cell_type": "code",
   "execution_count": 15,
   "metadata": {
    "scrolled": true
   },
   "outputs": [
    {
     "data": {
      "text/plain": [
       "<tf.Tensor: shape=(1, 314, 256), dtype=float32, numpy=\n",
       "array([[[-0.03431991, -0.04888877, -0.00974152, ..., -0.01552814,\n",
       "          0.02465305, -0.00084291],\n",
       "        [-0.00754689, -0.02949709, -0.00302827, ..., -0.03831697,\n",
       "          0.02017119,  0.02601827],\n",
       "        [ 0.0451188 ,  0.0175558 ,  0.04640624, ...,  0.03603176,\n",
       "         -0.00577275, -0.03927144],\n",
       "        ...,\n",
       "        [ 0.00101539,  0.03268779, -0.04650518, ...,  0.04501123,\n",
       "          0.04266984, -0.03577178],\n",
       "        [ 0.00101539,  0.03268779, -0.04650518, ...,  0.04501123,\n",
       "          0.04266984, -0.03577178],\n",
       "        [ 0.00101539,  0.03268779, -0.04650518, ...,  0.04501123,\n",
       "          0.04266984, -0.03577178]]], dtype=float32)>"
      ]
     },
     "execution_count": 15,
     "metadata": {},
     "output_type": "execute_result"
    }
   ],
   "source": [
    "embedding(vectorize([x_train_raw[0]]))"
   ]
  },
  {
   "cell_type": "markdown",
   "metadata": {},
   "source": [
    "<font color='red'>It's time to develop the model. In this case, I will be using a simple model for training.</font>"
   ]
  },
  {
   "cell_type": "code",
   "execution_count": 16,
   "metadata": {
    "scrolled": false
   },
   "outputs": [
    {
     "name": "stdout",
     "output_type": "stream",
     "text": [
      "Model: \"model_text\"\n",
      "_________________________________________________________________\n",
      " Layer (type)                Output Shape              Param #   \n",
      "=================================================================\n",
      " input_1 (InputLayer)        [(None, 1)]               0         \n",
      "                                                                 \n",
      " text_vectorization (TextVec  (None, 314)              0         \n",
      " torization)                                                     \n",
      "                                                                 \n",
      " embedding (Embedding)       (None, 314, 256)          83501568  \n",
      "                                                                 \n",
      " first_conf (Conv1D)         (None, 313, 256)          131328    \n",
      "                                                                 \n",
      " second_conf (Conv1D)        (None, 311, 256)          196864    \n",
      "                                                                 \n",
      " third_conv (Conv1D)         (None, 309, 256)          196864    \n",
      "                                                                 \n",
      " g_pool (GlobalAveragePoolin  (None, 256)              0         \n",
      " g1D)                                                            \n",
      "                                                                 \n",
      " dense_bro (Dense)           (None, 128)               32896     \n",
      "                                                                 \n",
      " final_dense (Dense)         (None, 5)                 645       \n",
      "                                                                 \n",
      "=================================================================\n",
      "Total params: 84,060,165\n",
      "Trainable params: 84,060,165\n",
      "Non-trainable params: 0\n",
      "_________________________________________________________________\n"
     ]
    }
   ],
   "source": [
    "inputs = tf.keras.layers.Input(shape=(1,), dtype=tf.string)\n",
    "x = vectorize(inputs)\n",
    "x = embedding(x)\n",
    "x = tf.keras.layers.Conv1D(filters=256, kernel_size=2, activation=\"relu\", name=\"first_conf\")(x)\n",
    "x = tf.keras.layers.Conv1D(filters=256, kernel_size=3, activation=\"relu\", name=\"second_conf\")(x)\n",
    "x = tf.keras.layers.Conv1D(filters=256, kernel_size=3, padding=\"valid\", activation=\"relu\", name=\"third_conv\")(x)\n",
    "x = tf.keras.layers.GlobalAveragePooling1D(name=\"g_pool\")(x)\n",
    "x = tf.keras.layers.Dense(128, activation=\"relu\", name=\"dense_bro\")(x)\n",
    "outputs = tf.keras.layers.Dense(len(set(y_train_raw)), activation=\"softmax\", name=\"final_dense\")(x)\n",
    "model_text = tf.keras.Model(inputs, outputs, name=\"model_text\")\n",
    "model_text.summary()"
   ]
  },
  {
   "cell_type": "code",
   "execution_count": 18,
   "metadata": {},
   "outputs": [
    {
     "data": {
      "image/png": "[encoded data removed]",
      "text/plain": [
       "<IPython.core.display.Image object>"
      ]
     },
     "execution_count": 18,
     "metadata": {},
     "output_type": "execute_result"
    }
   ],
   "source": [
    "tf.keras.utils.plot_model(model_text)"
   ]
  },
  {
   "cell_type": "markdown",
   "metadata": {},
   "source": [
    "<font color='red'>Define callbacks for updating the learning rate, early stopping if the model does not show improvement, and saving the model if any improvement occurs.</font>"
   ]
  },
  {
   "cell_type": "code",
   "execution_count": 17,
   "metadata": {},
   "outputs": [],
   "source": [
    "lr_callback = tf.keras.callbacks.ReduceLROnPlateau(monitor=\"loss\", # quantity to be monitored.\n",
    "                                                   factor=0.2, # factor by which the learning rate will be reduced. new_lr = lr * factor.\n",
    "                                                   patience=2, # number of epochs with no improvement after which learning rate will be reduced.\n",
    "                                                   min_lr=1e-7) # lower bound on the learning rate."
   ]
  },
  {
   "cell_type": "code",
   "execution_count": 18,
   "metadata": {},
   "outputs": [],
   "source": [
    "es_callback = tf.keras.callbacks.EarlyStopping(monitor=\"loss\",\n",
    "                                               patience=2, # number of epochs with no improvement after which training will be stopped.\n",
    "                                               start_from_epoch=5,\n",
    "                                               mode=\"min\") # training will stop when the quantity monitored has stopped decreasing"
   ]
  },
  {
   "cell_type": "code",
   "execution_count": 19,
   "metadata": {},
   "outputs": [],
   "source": [
    "save_callback = tf.keras.callbacks.ModelCheckpoint(filepath=\"checkpoint/model-1/ckpt-{epoch:02d}-{loss:.4f}.ckpt\",\n",
    "                                                   monitor=\"val_loss\",\n",
    "                                                   save_best_only=True,\n",
    "                                                   save_weights_only=False,\n",
    "                                                   mode='min')"
   ]
  },
  {
   "cell_type": "markdown",
   "metadata": {},
   "source": [
    "<font color='red'>Define the metrics to be displayed during the training process.</font>"
   ]
  },
  {
   "cell_type": "code",
   "execution_count": 20,
   "metadata": {},
   "outputs": [],
   "source": [
    "metrics = [tf.keras.metrics.SparseCategoricalAccuracy(name='accuracy')]"
   ]
  },
  {
   "cell_type": "markdown",
   "metadata": {},
   "source": [
    "<font color='red'>Now let's proceed with training the model.</font>\n",
    "    \n",
    "    For demonstration purposes, I will train this model for only 5 epochs."
   ]
  },
  {
   "cell_type": "code",
   "execution_count": 21,
   "metadata": {},
   "outputs": [],
   "source": [
    "BATCH_SIZE = 32\n",
    "EPOCHS = 5\n",
    "\n",
    "train = train.batch(BATCH_SIZE).cache()\n",
    "test = test.batch(BATCH_SIZE).cache()\n",
    "val = val.batch(BATCH_SIZE).cache()"
   ]
  },
  {
   "cell_type": "code",
   "execution_count": 22,
   "metadata": {},
   "outputs": [],
   "source": [
    "model_text.compile(loss=\"sparse_categorical_crossentropy\",\n",
    "                   optimizer=tf.keras.optimizers.Adam(learning_rate=0.0001),\n",
    "                   metrics=metrics)"
   ]
  },
  {
   "cell_type": "code",
   "execution_count": null,
   "metadata": {
    "scrolled": false
   },
   "outputs": [
    {
     "name": "stdout",
     "output_type": "stream",
     "text": [
      "Epoch 1/5\n"
     ]
    },
    {
     "name": "stderr",
     "output_type": "stream",
     "text": [
      "2023-04-06 17:17:30.500525: I tensorflow/core/common_runtime/executor.cc:1197] [/device:CPU:0] (DEBUG INFO) Executor start aborting (this does not indicate an error and you can ignore this message): INVALID_ARGUMENT: You must feed a value for placeholder tensor 'Placeholder/_1' with dtype int64 and shape [2211861]\n",
      "\t [[{{node Placeholder/_1}}]]\n",
      "2023-04-06 17:17:32.122129: I tensorflow/compiler/xla/stream_executor/cuda/cuda_dnn.cc:424] Loaded cuDNN version 8600\n",
      "2023-04-06 17:17:32.782150: I tensorflow/compiler/xla/stream_executor/cuda/cuda_blas.cc:637] TensorFloat-32 will be used for the matrix multiplication. This will only be logged once.\n",
      "2023-04-06 17:17:32.783607: I tensorflow/compiler/xla/service/service.cc:169] XLA service 0x7f27679bfcb0 initialized for platform CUDA (this does not guarantee that XLA will be used). Devices:\n",
      "2023-04-06 17:17:32.783628: I tensorflow/compiler/xla/service/service.cc:177]   StreamExecutor device (0): NVIDIA GeForce RTX 3090, Compute Capability 8.6\n",
      "2023-04-06 17:17:32.786813: I tensorflow/compiler/mlir/tensorflow/utils/dump_mlir_util.cc:269] disabling MLIR crash reproducer, set env var `MLIR_CRASH_REPRODUCER_DIRECTORY` to enable.\n",
      "2023-04-06 17:17:32.887588: I ./tensorflow/compiler/jit/device_compiler.h:180] Compiled cluster using XLA!  This line is logged at most once for the lifetime of the process.\n"
     ]
    },
    {
     "name": "stdout",
     "output_type": "stream",
     "text": [
      "69121/69121 [==============================] - ETA: 0s - loss: 0.5080 - accuracy: 0.8123"
     ]
    },
    {
     "name": "stderr",
     "output_type": "stream",
     "text": [
      "2023-04-06 17:33:35.907746: I tensorflow/core/common_runtime/executor.cc:1197] [/device:CPU:0] (DEBUG INFO) Executor start aborting (this does not indicate an error and you can ignore this message): INVALID_ARGUMENT: You must feed a value for placeholder tensor 'Placeholder/_1' with dtype int64 and shape [28932]\n",
      "\t [[{{node Placeholder/_1}}]]\n",
      "2023-04-06 17:33:40.365536: I tensorflow/core/common_runtime/executor.cc:1197] [/device:CPU:0] (DEBUG INFO) Executor start aborting (this does not indicate an error and you can ignore this message): INVALID_ARGUMENT: You must feed a value for placeholder tensor 'input_1' with dtype string and shape [?,1]\n",
      "\t [[{{node input_1}}]]\n",
      "2023-04-06 17:33:40.405102: I tensorflow/core/common_runtime/executor.cc:1197] [/device:CPU:0] (DEBUG INFO) Executor start aborting (this does not indicate an error and you can ignore this message): INVALID_ARGUMENT: You must feed a value for placeholder tensor 'input_1' with dtype string and shape [?,1]\n",
      "\t [[{{node input_1}}]]\n",
      "2023-04-06 17:33:40.842313: I tensorflow/core/common_runtime/executor.cc:1197] [/device:CPU:0] (DEBUG INFO) Executor start aborting (this does not indicate an error and you can ignore this message): INVALID_ARGUMENT: You must feed a value for placeholder tensor 'inputs' with dtype string and shape [?,1]\n",
      "\t [[{{node inputs}}]]\n",
      "2023-04-06 17:33:40.859133: I tensorflow/core/common_runtime/executor.cc:1197] [/device:CPU:0] (DEBUG INFO) Executor start aborting (this does not indicate an error and you can ignore this message): INVALID_ARGUMENT: You must feed a value for placeholder tensor 'inputs' with dtype string and shape [?,1]\n",
      "\t [[{{node inputs}}]]\n",
      "2023-04-06 17:33:40.925739: I tensorflow/core/common_runtime/executor.cc:1197] [/device:CPU:0] (DEBUG INFO) Executor start aborting (this does not indicate an error and you can ignore this message): INVALID_ARGUMENT: You must feed a value for placeholder tensor 'input_1' with dtype string and shape [?,1]\n",
      "\t [[{{node input_1}}]]\n",
      "2023-04-06 17:33:40.967380: I tensorflow/core/common_runtime/executor.cc:1197] [/device:CPU:0] (DEBUG INFO) Executor start aborting (this does not indicate an error and you can ignore this message): INVALID_ARGUMENT: You must feed a value for placeholder tensor 'inputs' with dtype string and shape [?,1]\n",
      "\t [[{{node inputs}}]]\n",
      "2023-04-06 17:33:40.976605: I tensorflow/core/common_runtime/executor.cc:1197] [/device:CPU:0] (DEBUG INFO) Executor start aborting (this does not indicate an error and you can ignore this message): INVALID_ARGUMENT: You must feed a value for placeholder tensor 'inputs' with dtype string and shape [?,1]\n",
      "\t [[{{node inputs}}]]\n",
      "WARNING:absl:Found untraced functions such as _jit_compiled_convolution_op, _jit_compiled_convolution_op, _jit_compiled_convolution_op while saving (showing 3 of 3). These functions will not be directly callable after loading.\n",
      "2023-04-06 17:33:41.565993: I tensorflow/core/common_runtime/executor.cc:1197] [/device:CPU:0] (DEBUG INFO) Executor start aborting (this does not indicate an error and you can ignore this message): INVALID_ARGUMENT: You must feed a value for placeholder tensor 'serving_default_input_1' with dtype string and shape [?,1]\n",
      "\t [[{{node serving_default_input_1}}]]\n"
     ]
    },
    {
     "name": "stdout",
     "output_type": "stream",
     "text": [
      "INFO:tensorflow:Assets written to: checkpoint/model-1/ckpt-01-0.5080.ckpt/assets\n"
     ]
    },
    {
     "name": "stderr",
     "output_type": "stream",
     "text": [
      "INFO:tensorflow:Assets written to: checkpoint/model-1/ckpt-01-0.5080.ckpt/assets\n"
     ]
    },
    {
     "name": "stdout",
     "output_type": "stream",
     "text": [
      "69121/69121 [==============================] - 974s 14ms/step - loss: 0.5080 - accuracy: 0.8123 - val_loss: 0.4289 - val_accuracy: 0.8437 - lr: 1.0000e-04\n",
      "Epoch 2/5\n",
      "69121/69121 [==============================] - ETA: 0s - loss: 0.4131 - accuracy: 0.8499"
     ]
    },
    {
     "name": "stderr",
     "output_type": "stream",
     "text": [
      "2023-04-06 17:49:06.326215: I tensorflow/core/common_runtime/executor.cc:1197] [/device:CPU:0] (DEBUG INFO) Executor start aborting (this does not indicate an error and you can ignore this message): INVALID_ARGUMENT: You must feed a value for placeholder tensor 'input_1' with dtype string and shape [?,1]\n",
      "\t [[{{node input_1}}]]\n",
      "2023-04-06 17:49:06.365137: I tensorflow/core/common_runtime/executor.cc:1197] [/device:CPU:0] (DEBUG INFO) Executor start aborting (this does not indicate an error and you can ignore this message): INVALID_ARGUMENT: You must feed a value for placeholder tensor 'input_1' with dtype string and shape [?,1]\n",
      "\t [[{{node input_1}}]]\n",
      "2023-04-06 17:49:06.397414: I tensorflow/core/common_runtime/executor.cc:1197] [/device:CPU:0] (DEBUG INFO) Executor start aborting (this does not indicate an error and you can ignore this message): INVALID_ARGUMENT: You must feed a value for placeholder tensor 'inputs' with dtype string and shape [?,1]\n",
      "\t [[{{node inputs}}]]\n",
      "2023-04-06 17:49:06.406184: I tensorflow/core/common_runtime/executor.cc:1197] [/device:CPU:0] (DEBUG INFO) Executor start aborting (this does not indicate an error and you can ignore this message): INVALID_ARGUMENT: You must feed a value for placeholder tensor 'inputs' with dtype string and shape [?,1]\n",
      "\t [[{{node inputs}}]]\n",
      "2023-04-06 17:49:06.430334: I tensorflow/core/common_runtime/executor.cc:1197] [/device:CPU:0] (DEBUG INFO) Executor start aborting (this does not indicate an error and you can ignore this message): INVALID_ARGUMENT: You must feed a value for placeholder tensor 'input_1' with dtype string and shape [?,1]\n",
      "\t [[{{node input_1}}]]\n",
      "2023-04-06 17:49:06.452141: I tensorflow/core/common_runtime/executor.cc:1197] [/device:CPU:0] (DEBUG INFO) Executor start aborting (this does not indicate an error and you can ignore this message): INVALID_ARGUMENT: You must feed a value for placeholder tensor 'inputs' with dtype string and shape [?,1]\n",
      "\t [[{{node inputs}}]]\n",
      "2023-04-06 17:49:06.460936: I tensorflow/core/common_runtime/executor.cc:1197] [/device:CPU:0] (DEBUG INFO) Executor start aborting (this does not indicate an error and you can ignore this message): INVALID_ARGUMENT: You must feed a value for placeholder tensor 'inputs' with dtype string and shape [?,1]\n",
      "\t [[{{node inputs}}]]\n",
      "WARNING:absl:Found untraced functions such as _jit_compiled_convolution_op, _jit_compiled_convolution_op, _jit_compiled_convolution_op while saving (showing 3 of 3). These functions will not be directly callable after loading.\n",
      "2023-04-06 17:49:06.936406: I tensorflow/core/common_runtime/executor.cc:1197] [/device:CPU:0] (DEBUG INFO) Executor start aborting (this does not indicate an error and you can ignore this message): INVALID_ARGUMENT: You must feed a value for placeholder tensor 'serving_default_input_1' with dtype string and shape [?,1]\n",
      "\t [[{{node serving_default_input_1}}]]\n"
     ]
    },
    {
     "name": "stdout",
     "output_type": "stream",
     "text": [
      "INFO:tensorflow:Assets written to: checkpoint/model-1/ckpt-02-0.4131.ckpt/assets\n"
     ]
    },
    {
     "name": "stderr",
     "output_type": "stream",
     "text": [
      "INFO:tensorflow:Assets written to: checkpoint/model-1/ckpt-02-0.4131.ckpt/assets\n"
     ]
    },
    {
     "name": "stdout",
     "output_type": "stream",
     "text": [
      "69121/69121 [==============================] - 929s 13ms/step - loss: 0.4131 - accuracy: 0.8499 - val_loss: 0.4044 - val_accuracy: 0.8503 - lr: 1.0000e-04\n",
      "Epoch 3/5\n",
      "69119/69121 [============================>.] - ETA: 0s - loss: 0.3777 - accuracy: 0.8632"
     ]
    },
    {
     "name": "stderr",
     "output_type": "stream",
     "text": [
      "2023-04-06 18:04:35.998590: I tensorflow/core/common_runtime/executor.cc:1197] [/device:CPU:0] (DEBUG INFO) Executor start aborting (this does not indicate an error and you can ignore this message): INVALID_ARGUMENT: You must feed a value for placeholder tensor 'input_1' with dtype string and shape [?,1]\n",
      "\t [[{{node input_1}}]]\n",
      "2023-04-06 18:04:36.037432: I tensorflow/core/common_runtime/executor.cc:1197] [/device:CPU:0] (DEBUG INFO) Executor start aborting (this does not indicate an error and you can ignore this message): INVALID_ARGUMENT: You must feed a value for placeholder tensor 'input_1' with dtype string and shape [?,1]\n",
      "\t [[{{node input_1}}]]\n",
      "2023-04-06 18:04:36.070721: I tensorflow/core/common_runtime/executor.cc:1197] [/device:CPU:0] (DEBUG INFO) Executor start aborting (this does not indicate an error and you can ignore this message): INVALID_ARGUMENT: You must feed a value for placeholder tensor 'inputs' with dtype string and shape [?,1]\n",
      "\t [[{{node inputs}}]]\n",
      "2023-04-06 18:04:36.079648: I tensorflow/core/common_runtime/executor.cc:1197] [/device:CPU:0] (DEBUG INFO) Executor start aborting (this does not indicate an error and you can ignore this message): INVALID_ARGUMENT: You must feed a value for placeholder tensor 'inputs' with dtype string and shape [?,1]\n",
      "\t [[{{node inputs}}]]\n",
      "2023-04-06 18:04:36.103898: I tensorflow/core/common_runtime/executor.cc:1197] [/device:CPU:0] (DEBUG INFO) Executor start aborting (this does not indicate an error and you can ignore this message): INVALID_ARGUMENT: You must feed a value for placeholder tensor 'input_1' with dtype string and shape [?,1]\n",
      "\t [[{{node input_1}}]]\n",
      "2023-04-06 18:04:36.125743: I tensorflow/core/common_runtime/executor.cc:1197] [/device:CPU:0] (DEBUG INFO) Executor start aborting (this does not indicate an error and you can ignore this message): INVALID_ARGUMENT: You must feed a value for placeholder tensor 'inputs' with dtype string and shape [?,1]\n",
      "\t [[{{node inputs}}]]\n",
      "2023-04-06 18:04:36.134507: I tensorflow/core/common_runtime/executor.cc:1197] [/device:CPU:0] (DEBUG INFO) Executor start aborting (this does not indicate an error and you can ignore this message): INVALID_ARGUMENT: You must feed a value for placeholder tensor 'inputs' with dtype string and shape [?,1]\n",
      "\t [[{{node inputs}}]]\n",
      "WARNING:absl:Found untraced functions such as _jit_compiled_convolution_op, _jit_compiled_convolution_op, _jit_compiled_convolution_op while saving (showing 3 of 3). These functions will not be directly callable after loading.\n",
      "2023-04-06 18:04:36.610558: I tensorflow/core/common_runtime/executor.cc:1197] [/device:CPU:0] (DEBUG INFO) Executor start aborting (this does not indicate an error and you can ignore this message): INVALID_ARGUMENT: You must feed a value for placeholder tensor 'serving_default_input_1' with dtype string and shape [?,1]\n",
      "\t [[{{node serving_default_input_1}}]]\n"
     ]
    },
    {
     "name": "stdout",
     "output_type": "stream",
     "text": [
      "INFO:tensorflow:Assets written to: checkpoint/model-1/ckpt-03-0.3777.ckpt/assets\n"
     ]
    },
    {
     "name": "stderr",
     "output_type": "stream",
     "text": [
      "INFO:tensorflow:Assets written to: checkpoint/model-1/ckpt-03-0.3777.ckpt/assets\n"
     ]
    },
    {
     "name": "stdout",
     "output_type": "stream",
     "text": [
      "69121/69121 [==============================] - 927s 13ms/step - loss: 0.3777 - accuracy: 0.8632 - val_loss: 0.3981 - val_accuracy: 0.8535 - lr: 1.0000e-04\n",
      "Epoch 4/5\n",
      "13524/69121 [====>.........................] - ETA: 12:17 - loss: 0.3600 - accuracy: 0.8701"
     ]
    }
   ],
   "source": [
    "start_time = time.perf_counter()\n",
    "history_text = model_text.fit(train,\n",
    "                              epochs=EPOCHS,\n",
    "                              validation_data=val,\n",
    "                              validation_steps=len(val),\n",
    "                              callbacks=[lr_callback, es_callback, save_callback])\n",
    "end_time = time.perf_counter()\n",
    "print(end_time - start_time, 'seconds')"
   ]
  },
  {
   "cell_type": "code",
   "execution_count": null,
   "metadata": {},
   "outputs": [],
   "source": [
    "pd.DataFrame(history_text.history).plot()"
   ]
  },
  {
   "cell_type": "markdown",
   "metadata": {},
   "source": [
    "<font color='red'>Let's evaluate our model using the testing data to assess its performance.</font>\n",
    "\n",
    "    I'll load our saved model from the checkpoint, assuming that our latest saved model is the best one. Here it is."
   ]
  },
  {
   "cell_type": "code",
   "execution_count": 130,
   "metadata": {},
   "outputs": [],
   "source": [
    "load_model_text = tf.keras.models.load_model(\"checkpoint/model-1/ckpt-05-1.4315.ckpt\")"
   ]
  },
  {
   "cell_type": "code",
   "execution_count": 132,
   "metadata": {
    "scrolled": true
   },
   "outputs": [
    {
     "name": "stdout",
     "output_type": "stream",
     "text": [
      "922/922 [==============================] - 4s 4ms/step\n"
     ]
    }
   ],
   "source": [
    "y_text_pred = load_model_text.predict(test)"
   ]
  },
  {
   "cell_type": "code",
   "execution_count": 134,
   "metadata": {},
   "outputs": [
    {
     "data": {
      "text/plain": [
       "(29493, 5)"
      ]
     },
     "execution_count": 134,
     "metadata": {},
     "output_type": "execute_result"
    }
   ],
   "source": [
    "y_text_pred.shape"
   ]
  },
  {
   "cell_type": "markdown",
   "metadata": {},
   "source": [
    "<font color='red'>We can analyze the detailed performance of our model in predicting each class by visualizing a confusion matrix.</font>"
   ]
  },
  {
   "cell_type": "code",
   "execution_count": null,
   "metadata": {},
   "outputs": [],
   "source": [
    "def conf_matrix(y_test=None, y_pred=None, class_names=None):\n",
    "    \n",
    "    cm = confusion_matrix(y_test, y_pred)\n",
    "    \n",
    "    fig, ax = plt.subplots(figsize=(10, 10))\n",
    "    a = ax.matshow(cm, cmap=plt.cm.Greens)  \n",
    "    \n",
    "    fig.colorbar(a)  \n",
    "    \n",
    "    ax.set(title=\"Confusion Matrix\",\n",
    "             xlabel=\"Predicted label\",\n",
    "             ylabel=\"Actual label\",\n",
    "             xticks=np.arange(len(class_names)), \n",
    "             yticks=np.arange(len(class_names)), \n",
    "             xticklabels=class_names,  \n",
    "             yticklabels=class_names)\n",
    "    \n",
    "    ax.xaxis.set_label_position(\"bottom\")\n",
    "    ax.xaxis.tick_bottom()\n",
    "    \n",
    "    plt.xticks(rotation=70, fontsize=2)\n",
    "    plt.yticks(fontsize=2)\n",
    "\n",
    "    for i, j in itertools.product(range(cm.shape[0]), range(cm.shape[1])):\n",
    "        plt.text(j, i, f\"{cm[i, j]}\",\n",
    "                  horizontalalignment=\"center\","
   ]
  },
  {
   "cell_type": "code",
   "execution_count": null,
   "metadata": {},
   "outputs": [],
   "source": [
    "conf_matrix(y_test, y_pred=None, class_names=None)"
   ]
  },
  {
   "cell_type": "markdown",
   "metadata": {},
   "source": [
    "<font color='red'>Let's create a character-level model and evaluate its performance in comparison to our previous training model.</font>\n",
    "    \n",
    "    First, we need to process the data to format it for character-level analysis"
   ]
  },
  {
   "cell_type": "code",
   "execution_count": null,
   "metadata": {},
   "outputs": [],
   "source": [
    "x_train_raw_char = [' ' . join(x) for x in x_train_raw]\n",
    "x_test_raw_char = [' ' . join(x) for x in x_test_raw]\n",
    "x_val_raw_char = [' ' . join(x) for x in x_val_raw]"
   ]
  },
  {
   "cell_type": "code",
   "execution_count": 11,
   "metadata": {},
   "outputs": [
    {
     "data": {
      "text/plain": [
       "['T h e   e m e r g e n c e   o f   H I V   a s   a   c h r o n i c   c o n d i t i o n   m e a n s   t h a t   p e o p l e   l i v i n g   w i t h   H I V   a r e   r e q u i r e d   t o   t a k e   m o r e   r e s p o n s i b i l i t y   f o r   t h e   s e l f - m a n a g e m e n t   o f   t h e i r   c o n d i t i o n   ,   i n c l u d i n g   m a k i n g   p h y s i c a l   ,   e m o t i o n a l   a n d   s o c i a l   a d j u s t m e n t s   .',\n",
       " 'T h i s   p a p e r   d e s c r i b e s   t h e   d e s i g n   a n d   e v a l u a t i o n   o f   P o s i t i v e   O u t l o o k   ,   a n   o n l i n e   p r o g r a m   a i m i n g   t o   e n h a n c e   t h e   s e l f - m a n a g e m e n t   s k i l l s   o f   g a y   m e n   l i v i n g   w i t h   H I V   .',\n",
       " 'T h i s   s t u d y   i s   d e s i g n e d   a s   a   r a n d o m i s e d   c o n t r o l l e d   t r i a l   i n   w h i c h   m e n   l i v i n g   w i t h   H I V   i n   A u s t r a l i a   w i l l   b e   a s s i g n e d   t o   e i t h e r   a n   i n t e r v e n t i o n   g r o u p   o r   u s u a l   c a r e   c o n t r o l   g r o u p   .']"
      ]
     },
     "execution_count": 11,
     "metadata": {},
     "output_type": "execute_result"
    }
   ],
   "source": [
    "x_train_raw_char[:3]"
   ]
  },
  {
   "cell_type": "code",
   "execution_count": null,
   "metadata": {},
   "outputs": [],
   "source": [
    "x_train_char = tf.data.Dataset.from_tensor_slices((x_train_raw_char, y_train_raw_en))\n",
    "x_test_char = tf.data.Dataset.from_tensor_slices((x_test_raw_char, y_test_raw_en))\n",
    "x_val_char = tf.data.Dataset.from_tensor_slices((x_val_raw_char, y_val_raw_en))"
   ]
  },
  {
   "cell_type": "markdown",
   "metadata": {},
   "source": [
    "<font color='red'>Now we will create our character-level vectorization and embedding.</font>\n",
    "\n",
    "    APPROXIMATE_CHAR_COUNT: It's important to note that unlike token embedding, where we set the embedding and vectorization based on the number of distinct tokens in our dataset, for character embedding we will need to consider the number of characters in the alphabet, the number of digits, the number of punctuation marks, and also add two additional counts for space and unrecognized character symbols.\n",
    "    \n",
    "    SEQ_LENGTH_CHAR: I will be using the same sequence length for character embedding and vectorization as we used for token embedding and vectorization."
   ]
  },
  {
   "cell_type": "code",
   "execution_count": null,
   "metadata": {},
   "outputs": [],
   "source": [
    "APPROXIMATE_CHAR_COUNT = len(string.ascii_lowercase + string.digits + string.punctuation) + 2\n",
    "SEQ_LENGTH_CHAR = SEQ_LENGTH"
   ]
  },
  {
   "cell_type": "code",
   "execution_count": null,
   "metadata": {},
   "outputs": [],
   "source": [
    "vectorize_char = tf.keras.layers.TextVectorization(max_tokens=APPROXIMATE_CHAR_COUNT,\n",
    "                                              output_mode=\"int\",\n",
    "                                              output_sequence_length=SEQ_LENGTH_CHAR,\n",
    "                                              split=\"whitespace\")"
   ]
  },
  {
   "cell_type": "code",
   "execution_count": null,
   "metadata": {},
   "outputs": [],
   "source": [
    "start_time = time.perf_counter()\n",
    "vectorize_char.adapt(x_train_raw_char, batch_size=32)\n",
    "end_time = time.perf_counter()\n",
    "print(end_time - start_time, 'seconds') # 890.2296672859957 seconds in average"
   ]
  },
  {
   "cell_type": "code",
   "execution_count": null,
   "metadata": {},
   "outputs": [],
   "source": [
    "vectorize_char([x_train_raw_char[0]])"
   ]
  },
  {
   "cell_type": "code",
   "execution_count": null,
   "metadata": {},
   "outputs": [],
   "source": [
    "embedding_char = tf.keras.layers.Embedding(input_dim=APPROXIMATE_CHAR_COUNT, \n",
    "                                      output_dim=256, \n",
    "                                      input_length=SEQ_LENGTH_CHAR)"
   ]
  },
  {
   "cell_type": "code",
   "execution_count": null,
   "metadata": {},
   "outputs": [],
   "source": [
    "embedding_char(vectorize_char([x_train_raw_char[0]]))"
   ]
  },
  {
   "cell_type": "markdown",
   "metadata": {},
   "source": [
    "<font color='red'>Now it's time to design the architecture for our character-level model. I will be using the same architecture as our token-level model.</font>"
   ]
  },
  {
   "cell_type": "code",
   "execution_count": null,
   "metadata": {},
   "outputs": [],
   "source": [
    "inputs = tf.keras.layers.Input(shape=(1,), dtype=tf.string)\n",
    "x = vectorize_char(inputs)\n",
    "x = embedding_char(x)\n",
    "x = tf.keras.layers.Conv1D(filters=256, kernel_size=2, activation=\"relu\", name=\"first_conf\")(x)\n",
    "x = tf.keras.layers.Conv1D(filters=256, kernel_size=3, activation=\"relu\", name=\"second_conf\")(x)\n",
    "x = tf.keras.layers.Conv1D(filters=256, kernel_size=3, padding=\"valid\", activation=\"relu\", name=\"third_conv\")(x)\n",
    "x = tf.keras.layers.GlobalAveragePooling1D(name=\"g_pool\")(x)\n",
    "x = tf.keras.layers.Dense(128, activation=\"relu\", name=\"dense_bro\")(x)\n",
    "outputs = tf.keras.layers.Dense(len(set(y_train_raw)), activation=\"softmax\", name=\"final_dense\")(x)\n",
    "model_char = tf.keras.Model(inputs, outputs, name=\"model_text\")\n",
    "model_char.summary()"
   ]
  },
  {
   "cell_type": "markdown",
   "metadata": {},
   "source": [
    "<font color='red'>Similar to the token-level model, I will incorporate techniques such as learning rate updates, early stopping, and model checkpointing in our character-level model.</font>"
   ]
  },
  {
   "cell_type": "code",
   "execution_count": null,
   "metadata": {},
   "outputs": [],
   "source": [
    "lr_callback = tf.keras.callbacks.ReduceLROnPlateau(monitor=\"loss\", # quantity to be monitored.\n",
    "                                                   factor=0.2, # factor by which the learning rate will be reduced. new_lr = lr * factor.\n",
    "                                                   patience=2, # number of epochs with no improvement after which learning rate will be reduced.\n",
    "                                                   min_lr=1e-7) # lower bound on the learning rate."
   ]
  },
  {
   "cell_type": "code",
   "execution_count": null,
   "metadata": {},
   "outputs": [],
   "source": [
    "es_callback = tf.keras.callbacks.EarlyStopping(monitor=\"loss\",\n",
    "                                               patience=2, # number of epochs with no improvement after which training will be stopped.\n",
    "                                               start_from_epoch=5,\n",
    "                                               mode=\"min\") # training will stop when the quantity monitored has stopped decreasing"
   ]
  },
  {
   "cell_type": "code",
   "execution_count": null,
   "metadata": {},
   "outputs": [],
   "source": [
    "save_callback = tf.keras.callbacks.ModelCheckpoint(filepath=\"checkpoint/model-2/ckpt-{epoch:02d}-{loss:.4f}.ckpt\",\n",
    "                                                   monitor=\"val_loss\",\n",
    "                                                   save_best_only=True,\n",
    "                                                   save_weights_only=False,\n",
    "                                                   mode='min')"
   ]
  },
  {
   "cell_type": "markdown",
   "metadata": {},
   "source": [
    "<font color='red'>Let's compile and train the model now.</font>"
   ]
  },
  {
   "cell_type": "code",
   "execution_count": null,
   "metadata": {},
   "outputs": [],
   "source": [
    "BATCH_SIZE = 32\n",
    "EPOCHS = 5\n",
    " \n",
    "train_char = x_train_char.batch(BATCH_SIZE).cache()\n",
    "test_char = x_test_char.batch(BATCH_SIZE).cache()\n",
    "val_char = x_val_char.batch(BATCH_SIZE).cache()"
   ]
  },
  {
   "cell_type": "code",
   "execution_count": null,
   "metadata": {},
   "outputs": [],
   "source": [
    "metrics = [tf.keras.metrics.SparseCategoricalAccuracy(name='accuracy')]"
   ]
  },
  {
   "cell_type": "code",
   "execution_count": null,
   "metadata": {},
   "outputs": [],
   "source": [
    "model_char.compile(loss=\"sparse_categorical_crossentropy\",\n",
    "                   optimizer=tf.keras.optimizers.Adam(learning_rate=0.0001),\n",
    "                   metrics=metrics)"
   ]
  },
  {
   "cell_type": "code",
   "execution_count": null,
   "metadata": {},
   "outputs": [],
   "source": [
    "start_time = time.perf_counter()\n",
    "history_char = model_char.fit(train_char,\n",
    "                              epochs=EPOCHS,\n",
    "                              validation_data=val_char,\n",
    "                              validation_steps=len(val_char),\n",
    "                              callbacks=[lr_callback, es_callback, save_callback])\n",
    "end_time = time.perf_counter()\n",
    "print(end_time - start_time, 'seconds')"
   ]
  },
  {
   "cell_type": "code",
   "execution_count": null,
   "metadata": {},
   "outputs": [],
   "source": [
    "pd.DataFrame(history_char.history).plot()"
   ]
  },
  {
   "cell_type": "code",
   "execution_count": null,
   "metadata": {},
   "outputs": [],
   "source": []
  }
 ],
 "metadata": {
  "kernelspec": {
   "display_name": "Python 3 (ipykernel)",
   "language": "python",
   "name": "python3"
  },
  "language_info": {
   "codemirror_mode": {
    "name": "ipython",
    "version": 3
   },
   "file_extension": ".py",
   "mimetype": "text/x-python",
   "name": "python",
   "nbconvert_exporter": "python",
   "pygments_lexer": "ipython3",
   "version": "3.8.10"
  }
 },
 "nbformat": 4,
 "nbformat_minor": 2
}
